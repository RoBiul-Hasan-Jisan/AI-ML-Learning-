{
 "cells": [
  {
   "cell_type": "markdown",
   "id": "2d4e972e",
   "metadata": {},
   "source": [
    "Creating Tuples"
   ]
  },
  {
   "cell_type": "code",
   "execution_count": 1,
   "id": "69309aa0",
   "metadata": {},
   "outputs": [
    {
     "name": "stdout",
     "output_type": "stream",
     "text": [
      "((), (12, 13, 14, 15), ('Robiul', 'Hasan', 'Jisan'), ('a', 'b', 'c', 'd'))\n",
      "<class 'int'>\n",
      "<class 'tuple'>\n"
     ]
    }
   ],
   "source": [
    "# Empty tuple\n",
    "t1 = ()\n",
    "\n",
    "# Tuple with numeric elements\n",
    "t2 = (12, 13, 14, 15)\n",
    "\n",
    "# Tuple with strings\n",
    "t3 = (\"Robiul\", \"Hasan\", \"Jisan\")\n",
    "\n",
    "# Tuple without parentheses\n",
    "t4 = \"a\", \"b\", \"c\", \"d\"\n",
    "\n",
    "# Multiple tuples together\n",
    "t = t1, t2, t3, t4\n",
    "print(t)\n",
    "# Output: ((), (12, 13, 14, 15), ('Emdadul', 'Hoque', 'Tareque'), ('a', 'b', 'c', 'd'))\n",
    "\n",
    "# Single value in parenthesis is NOT a tuple\n",
    "t5 = (4)\n",
    "print(type(t5))  # <class 'int'>\n",
    "\n",
    "# Single value with comma IS a tuple\n",
    "t6 = (4,)\n",
    "print(type(t6))  # <class 'tuple'>\n"
   ]
  },
  {
   "cell_type": "code",
   "execution_count": 4,
   "id": "d4582d47",
   "metadata": {},
   "outputs": [
    {
     "name": "stdout",
     "output_type": "stream",
     "text": [
      "('R', 'o', 'b', 'i', 'u', 'l')\n",
      "(['Robiul', 1, 2, 3], [1, 2, 3, 4])\n"
     ]
    }
   ],
   "source": [
    "# Creating tuple using tuple() function\n",
    "string = \"Robiul\"\n",
    "t1 = tuple(string)\n",
    "print(t1)  # ('E', 'm', 'd', 'a', 'd', 'u', 'l')\n",
    "\n",
    "# tuple() accepts only one argument\n",
    "\n",
    "\n",
    "t2 = ([\"Robiul\", 1, 2, 3], [1, 2, 3, 4])\n",
    "print(t2)  # (['Emdadul', 1, 2, 3], [1, 2, 3, 4])\n"
   ]
  },
  {
   "cell_type": "markdown",
   "id": "1ae1bcc5",
   "metadata": {},
   "source": [
    "Built-in Functions for Tuples"
   ]
  },
  {
   "cell_type": "code",
   "execution_count": 5,
   "id": "048dc11c",
   "metadata": {},
   "outputs": [
    {
     "name": "stdout",
     "output_type": "stream",
     "text": [
      "10\n",
      "100\n",
      "-100\n",
      "5\n",
      "2\n"
     ]
    }
   ],
   "source": [
    "t2 = (1, 2, 3, 4)\n",
    "print(sum(t2))  # 10\n",
    "\n",
    "t4 = (1, 2, 3, 4, 100, -100, 20, 30, 3, 4, 5)\n",
    "print(max(t4))   # 100\n",
    "print(min(t4))   # -100\n",
    "print(t4.index(-100))  # 5\n",
    "print(t4.count(3))     # 2\n",
    "\n"
   ]
  },
  {
   "cell_type": "markdown",
   "id": "dddc8b64",
   "metadata": {},
   "source": [
    "Tuple Indexing & Slicing"
   ]
  },
  {
   "cell_type": "code",
   "execution_count": 6,
   "id": "bb6d2146",
   "metadata": {},
   "outputs": [
    {
     "name": "stdout",
     "output_type": "stream",
     "text": [
      "5 4\n",
      "(6, 5, 4, 3, 2, 1)\n",
      "(1, 3, 5)\n",
      "(3, 4)\n"
     ]
    }
   ],
   "source": [
    "t5 = (1, 2, 3, 4, 5, 6)\n",
    "print(t5[4], t5[3])  # (5, 4)\n",
    "print(t5[::-1])       # (6, 5, 4, 3, 2, 1)\n",
    "print(t5[::2])        # (1, 3, 5)\n",
    "print(t5[2:4])        # (3, 4)\n"
   ]
  },
  {
   "cell_type": "markdown",
   "id": "46c10e68",
   "metadata": {},
   "source": [
    "Tuple Operations"
   ]
  },
  {
   "cell_type": "code",
   "execution_count": 7,
   "id": "c1a4a26b",
   "metadata": {},
   "outputs": [
    {
     "name": "stdout",
     "output_type": "stream",
     "text": [
      "(1, 2, 3, 4, 5, 6)\n",
      "(2, 3, 4, 2, 3, 4, 2, 3, 4)\n"
     ]
    }
   ],
   "source": [
    "# Concatenation\n",
    "t1 = (1, 2, 3)\n",
    "t2 = (4, 5, 6)\n",
    "t1 = t1 + t2\n",
    "print(t1)  # (1, 2, 3, 4, 5, 6)\n",
    "\n",
    "# Concatenation with single element\n",
    "t1 + (\" \",)  # (1, 2, 3, 4, 5, 6, ' ')\n",
    "\n",
    "# Repetition\n",
    "t3 = (2, 3, 4)\n",
    "t3 = t3 * 3\n",
    "print(t3)  # (2, 3, 4, 2, 3, 4, 2, 3, 4)\n"
   ]
  },
  {
   "cell_type": "markdown",
   "id": "48ff1ac5",
   "metadata": {},
   "source": [
    "Traversing Tuples"
   ]
  },
  {
   "cell_type": "code",
   "execution_count": 8,
   "id": "3f4130bf",
   "metadata": {},
   "outputs": [
    {
     "name": "stdout",
     "output_type": "stream",
     "text": [
      "1 Robiul\n",
      "2 Hasan\n",
      "3 Jisan\n"
     ]
    }
   ],
   "source": [
    "t = [(1, \"Robiul\"), (2, \"Hasan\"), (3, \"Jisan\")]\n",
    "for no, name in t:\n",
    "    print(no, name)\n",
    "# Output:\n",
    "# 1 Emdadul\n",
    "# 2 Hoque\n",
    "# 3 Tareque\n"
   ]
  },
  {
   "cell_type": "markdown",
   "id": "a9bdaec6",
   "metadata": {},
   "source": [
    "The zip() Function"
   ]
  },
  {
   "cell_type": "code",
   "execution_count": 9,
   "id": "2d110dd4",
   "metadata": {},
   "outputs": [
    {
     "name": "stdout",
     "output_type": "stream",
     "text": [
      "[(1, 'a'), (2, 'b'), (3, 'c'), (4, 'd')]\n",
      "(('Laptop', 100000), ('Mobile', 12000), ('Headphone', 5000))\n"
     ]
    }
   ],
   "source": [
    "lst1 = [1, 2, 3, 4]\n",
    "lst2 = \"abcd\"\n",
    "print(list(zip(lst1, lst2)))  \n",
    "# [(1, 'a'), (2, 'b'), (3, 'c'), (4, 'd')]\n",
    "\n",
    "# Example with prices\n",
    "products = [\"Laptop\", \"Mobile\", \"Headphone\"]\n",
    "prices = [100000, 12000, 5000]\n",
    "tpl = tuple(zip(products, prices))\n",
    "print(tpl)\n",
    "# (('Laptop', 100000), ('Mobile', 12000), ('Headphone', 5000))\n"
   ]
  },
  {
   "cell_type": "markdown",
   "id": "c9840a37",
   "metadata": {},
   "source": [
    "Inverse Zip (*) Function"
   ]
  },
  {
   "cell_type": "code",
   "execution_count": 10,
   "id": "33446984",
   "metadata": {},
   "outputs": [
    {
     "name": "stdout",
     "output_type": "stream",
     "text": [
      "('Laptop', 'Mobile', 'Headphone')\n",
      "(100000, 12000, 5000)\n",
      "<class 'tuple'>\n",
      "((1, 3, 5), (2, 4, 6))\n"
     ]
    }
   ],
   "source": [
    "product, price = zip(*tpl)\n",
    "print(product)  # ('Laptop', 'Mobile', 'Headphone')\n",
    "print(price)    # (100000, 12000, 5000)\n",
    "print(type(product))  # <class 'tuple'>\n",
    "\n",
    "# Example with a matrix\n",
    "matrix = [(1, 2), (3, 4), (5, 6)]\n",
    "z = zip(*matrix)\n",
    "print(tuple(z))  # ((1, 3, 5), (2, 4, 6))\n"
   ]
  },
  {
   "cell_type": "markdown",
   "id": "c76755ed",
   "metadata": {},
   "source": [
    "Creating Sets"
   ]
  },
  {
   "cell_type": "code",
   "execution_count": 11,
   "id": "614e2269",
   "metadata": {},
   "outputs": [
    {
     "name": "stdout",
     "output_type": "stream",
     "text": [
      "{1, 2, 3, 4, 5}\n",
      "set()\n",
      "{1, 2, 3, 4, 5}\n",
      "True\n",
      "False\n"
     ]
    }
   ],
   "source": [
    "s1 = {1, 2, 3, 4, 5}\n",
    "print(s1)  # {1, 2, 3, 4, 5}\n",
    "\n",
    "# Empty set\n",
    "s2 = set()\n",
    "print(s2)  # set()\n",
    "\n",
    "# Convert list to set (unique values)\n",
    "lst = [1, 2, 3, 4, 5, 2, 2, 3, 1, 4, 3]\n",
    "s = set(lst)\n",
    "print(s)  # {1, 2, 3, 4, 5}\n",
    "\n",
    "# Membership operators\n",
    "s = {1, 2, 3, 4}\n",
    "print(3 in s)    # True\n",
    "print(4 not in s) # False\n"
   ]
  },
  {
   "cell_type": "markdown",
   "id": "be9b5cc7",
   "metadata": {},
   "source": [
    "Set Methods"
   ]
  },
  {
   "cell_type": "code",
   "execution_count": 12,
   "id": "9483c2a1",
   "metadata": {},
   "outputs": [
    {
     "name": "stdout",
     "output_type": "stream",
     "text": [
      "True\n",
      "True\n"
     ]
    }
   ],
   "source": [
    "s = {10, 20, 30, 40, 50, 60}\n",
    "s.add(70)       # Add element\n",
    "s.remove(30)    # Remove element\n",
    "s.clear()       # Remove all elements\n",
    "\n",
    "# Subset & Superset\n",
    "s1 = {1, 2, 3, 4}\n",
    "s2 = {1, 2, 3, 4, 5}\n",
    "print(s1.issubset(s2))  # True\n",
    "print(s2.issuperset(s1)) # True\n"
   ]
  },
  {
   "cell_type": "markdown",
   "id": "4749f876",
   "metadata": {},
   "source": [
    "Set Operations"
   ]
  },
  {
   "cell_type": "code",
   "execution_count": 13,
   "id": "275fff83",
   "metadata": {},
   "outputs": [
    {
     "name": "stdout",
     "output_type": "stream",
     "text": [
      "{1, 2, 3, 4, 5, 6}\n",
      "{2, 4, 5}\n",
      "{1, 3}\n",
      "{1, 3, 6}\n"
     ]
    }
   ],
   "source": [
    "s1 = {1, 2, 3, 4, 5}\n",
    "s2 = {2, 4, 5, 6}\n",
    "\n",
    "print(s1.union(s2))              # {1, 2, 3, 4, 5, 6}\n",
    "print(s1.intersection(s2))       # {2, 4, 5}\n",
    "print(s1.difference(s2))         # {1, 3}\n",
    "print(s1.symmetric_difference(s2)) # {1, 3, 6}\n"
   ]
  },
  {
   "cell_type": "markdown",
   "id": "b6f70e64",
   "metadata": {},
   "source": [
    "Zip Function with Sets"
   ]
  },
  {
   "cell_type": "code",
   "execution_count": 14,
   "id": "20fe8b52",
   "metadata": {},
   "outputs": [
    {
     "name": "stdout",
     "output_type": "stream",
     "text": [
      "{(3, 40), (4, 10), (5, 60), (1, 50), (2, 20), (6, 30)}\n"
     ]
    }
   ],
   "source": [
    "s1 = {1, 2, 3, 4, 5, 6}\n",
    "s2 = {10, 20, 30, 40, 50, 60}\n",
    "s3 = set(zip(s1, s2))\n",
    "print(s3)\n",
    "# {(1, 50), (2, 20), (3, 40), (4, 10), (5, 60), (6, 30)}\n"
   ]
  },
  {
   "cell_type": "markdown",
   "id": "27079a39",
   "metadata": {},
   "source": []
  },
  {
   "cell_type": "code",
   "execution_count": null,
   "id": "bafb8ea9",
   "metadata": {},
   "outputs": [],
   "source": []
  }
 ],
 "metadata": {
  "kernelspec": {
   "display_name": "Python 3",
   "language": "python",
   "name": "python3"
  },
  "language_info": {
   "codemirror_mode": {
    "name": "ipython",
    "version": 3
   },
   "file_extension": ".py",
   "mimetype": "text/x-python",
   "name": "python",
   "nbconvert_exporter": "python",
   "pygments_lexer": "ipython3",
   "version": "3.10.8"
  }
 },
 "nbformat": 4,
 "nbformat_minor": 5
}
