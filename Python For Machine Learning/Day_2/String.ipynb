{
 "cells": [
  {
   "cell_type": "markdown",
   "id": "f0762aab",
   "metadata": {},
   "source": [
    "String Declaration  "
   ]
  },
  {
   "cell_type": "code",
   "execution_count": 2,
   "id": "01966ac2",
   "metadata": {},
   "outputs": [
    {
     "name": "stdout",
     "output_type": "stream",
     "text": [
      "string declaration\n"
     ]
    }
   ],
   "source": [
    "#Using str() Constructor  \n",
    "s1 = str()  # create an empty string object\n",
    "s2 = str(\"string declaration\")\n",
    "print(s2)  # Output: 'string declaration'\n"
   ]
  },
  {
   "cell_type": "code",
   "execution_count": 3,
   "id": "6d575e8e",
   "metadata": {},
   "outputs": [
    {
     "name": "stdout",
     "output_type": "stream",
     "text": [
      "Hello\n"
     ]
    }
   ],
   "source": [
    "#Using Quotation Marks\n",
    "s1 = \"\"  # empty string\n",
    "s2 = \"Hello\"\n",
    "print(s2)  # Output: 'Hello'\n"
   ]
  },
  {
   "cell_type": "markdown",
   "id": "eb764a1b",
   "metadata": {},
   "source": [
    "Built-in Python Functions for Strings"
   ]
  },
  {
   "cell_type": "code",
   "execution_count": 4,
   "id": "12cff52a",
   "metadata": {},
   "outputs": [
    {
     "name": "stdout",
     "output_type": "stream",
     "text": [
      "17\n",
      " \n",
      "y\n"
     ]
    }
   ],
   "source": [
    "string = \"I love my country\"\n",
    "print(len(string))  # number of characters: 18\n",
    "print(min(string))  # smallest character: ' '\n",
    "print(max(string))  # largest character: 'y'\n"
   ]
  },
  {
   "cell_type": "markdown",
   "id": "8577cb05",
   "metadata": {},
   "source": [
    "Accessing Characters in a String"
   ]
  },
  {
   "cell_type": "code",
   "execution_count": 9,
   "id": "c163daa8",
   "metadata": {},
   "outputs": [
    {
     "name": "stdout",
     "output_type": "stream",
     "text": [
      "R\n",
      "u\n",
      "l\n",
      "i\n",
      "u\n",
      "u\n",
      "l\n"
     ]
    }
   ],
   "source": [
    "name = \"Robiul\"\n",
    "print(name[0])  \n",
    "print(name[4]) \n",
    "print(name[-1]) \n",
    "print(name[-3]) \n",
    "print(name[4])\n",
    "print(name[-2])  \n",
    "print(name[-1]) \n"
   ]
  },
  {
   "cell_type": "markdown",
   "id": "a4d5a1db",
   "metadata": {},
   "source": [
    "Traversing a String"
   ]
  },
  {
   "cell_type": "code",
   "execution_count": null,
   "id": "757c2cc9",
   "metadata": {},
   "outputs": [],
   "source": [
    "# Method 1\n",
    "for char in name:\n",
    "    print(char, end=\"\") \n",
    "print()\n",
    "\n",
    "# Method 2\n",
    "for i in range(len(name)):\n",
    "    print(name[i], end=\"\") \n"
   ]
  },
  {
   "cell_type": "markdown",
   "id": "73b620c1",
   "metadata": {},
   "source": [
    "Traverse Every Second Character"
   ]
  },
  {
   "cell_type": "code",
   "execution_count": 10,
   "id": "9a85e54a",
   "metadata": {},
   "outputs": [
    {
     "name": "stdout",
     "output_type": "stream",
     "text": [
      "I l v   y h n p o r m i g "
     ]
    }
   ],
   "source": [
    "sentence = \"I love python programming\"\n",
    "for ch in range(0, len(sentence), 2):\n",
    "    print(sentence[ch], end=\" \")  # Output: I l v   y h n p o r m i g\n"
   ]
  },
  {
   "cell_type": "markdown",
   "id": "10feb0ad",
   "metadata": {},
   "source": [
    "String Slicing"
   ]
  },
  {
   "cell_type": "code",
   "execution_count": 11,
   "id": "7291a052",
   "metadata": {},
   "outputs": [
    {
     "name": "stdout",
     "output_type": "stream",
     "text": [
      "ROBIUL\n",
      "ROBIUL\n",
      "RBU\n",
      "ROBIUL\n",
      "LUIBOR\n",
      "LUIBO\n"
     ]
    }
   ],
   "source": [
    "s = \"ROBIUL\"\n",
    "print(s[0:6])    \n",
    "print(s[0:7])    \n",
    "print(s[0:7:2])  \n",
    "print(s[::])     \n",
    "print(s[::-1])   \n",
    "print(s[-1:0:-1])\n"
   ]
  },
  {
   "cell_type": "markdown",
   "id": "76caa4d0",
   "metadata": {},
   "source": [
    "String Operators"
   ]
  },
  {
   "cell_type": "code",
   "execution_count": 12,
   "id": "926ceb3d",
   "metadata": {},
   "outputs": [
    {
     "name": "stdout",
     "output_type": "stream",
     "text": [
      "Dhaka orth City Corporation"
     ]
    }
   ],
   "source": [
    "word1 = \"Dhaka North City Corporation\"\n",
    "word2 = \"Dhaka South City Corporation\"\n",
    "for letter in word1:\n",
    "    if letter in word2:\n",
    "        print(letter, end=\"\")\n",
    "# Output: Dhaka orth City Corporation\n"
   ]
  },
  {
   "cell_type": "markdown",
   "id": "17f0180a",
   "metadata": {},
   "source": [
    "String Comparison"
   ]
  },
  {
   "cell_type": "code",
   "execution_count": 13,
   "id": "9b35c9fd",
   "metadata": {},
   "outputs": [
    {
     "name": "stdout",
     "output_type": "stream",
     "text": [
      "False\n",
      "True\n",
      "XYZ\n",
      "True\n"
     ]
    }
   ],
   "source": [
    "s1 = \"xyz\"\n",
    "s2 = \"XYZ\"\n",
    "\n",
    "print(s1 == s2)   # False\n",
    "print(s1 > s2)    # True (ASCII comparison)\n",
    "print(s1.upper()) # 'XYZ'\n",
    "s1 = s1.upper()\n",
    "print(s1 == s2)   # True\n"
   ]
  },
  {
   "cell_type": "markdown",
   "id": "39c30db3",
   "metadata": {},
   "source": [
    "String Formatting"
   ]
  },
  {
   "cell_type": "code",
   "execution_count": 14,
   "id": "01b64787",
   "metadata": {},
   "outputs": [
    {
     "name": "stdout",
     "output_type": "stream",
     "text": [
      "My name is Robiul and I am from Bangladesh\n",
      "My name is Bangladesh and I am from Robiul\n",
      "I am 22 years old. I love to work on HP laptop\n"
     ]
    }
   ],
   "source": [
    "s = \"My name is {} and I am from {}\".format(\"Robiul\", \"Bangladesh\")\n",
    "print(s)  \n",
    "\n",
    "s = \"My name is {1} and I am from {0}\".format(\"Robiul\", \"Bangladesh\")\n",
    "print(s)  \n",
    "\n",
    "s = \"I am {0} years old. I love to work on {pc} laptop\".format(22, pc=\"HP\")\n",
    "print(s)  \n"
   ]
  },
  {
   "cell_type": "markdown",
   "id": "3292834c",
   "metadata": {},
   "source": [
    "Splitting Strings"
   ]
  },
  {
   "cell_type": "code",
   "execution_count": 15,
   "id": "ac5ff6ea",
   "metadata": {},
   "outputs": [
    {
     "name": "stdout",
     "output_type": "stream",
     "text": [
      "['My', 'name', 'is', 'Hasan']\n",
      "Meta\n",
      "Google\n",
      "Microsoft\n",
      "Amazon\n",
      "OpenAI\n"
     ]
    }
   ],
   "source": [
    "str1 = \"My name is Hasan\"\n",
    "print(str1.split())  \n",
    "\n",
    "it_company = \"Meta Google Microsoft Amazon OpenAI\"\n",
    "companies = it_company.split()\n",
    "for company in companies:\n",
    "    print(company)\n"
   ]
  },
  {
   "cell_type": "markdown",
   "id": "ff69ba02",
   "metadata": {},
   "source": [
    "Testing Strings"
   ]
  },
  {
   "cell_type": "code",
   "execution_count": 17,
   "id": "dc35fb06",
   "metadata": {},
   "outputs": [
    {
     "name": "stdout",
     "output_type": "stream",
     "text": [
      "True\n",
      "False\n",
      "True\n",
      "False\n",
      "True\n",
      "False\n",
      "True\n",
      "False\n",
      "True\n",
      "False\n",
      "True\n",
      "True\n"
     ]
    }
   ],
   "source": [
    "s = \"python\"\n",
    "print(s.isalnum())   # True\n",
    "print(\"Python Programming\".isalnum())  # False\n",
    "print(\"Age23\".isalnum())  # True\n",
    "print(\"Age:23\".isalnum()) # False\n",
    "\n",
    "print(\"Robiul\".isalpha())  # True\n",
    "print(\"age45\".isalpha())    # False\n",
    "\n",
    "print(\"1234\".isdigit())     # True\n",
    "print(\"abc\".isdigit())      # False\n",
    "\n",
    "print(\"happy\".islower())    # True\n",
    "print(\"Happy\".islower())    # False\n",
    "print(\"HAPPY\".isupper())    # True\n",
    "\n",
    "print(\" \".isspace())        # True\n"
   ]
  },
  {
   "cell_type": "markdown",
   "id": "944cc48d",
   "metadata": {},
   "source": [
    "Searching Substrings"
   ]
  },
  {
   "cell_type": "code",
   "execution_count": 20,
   "id": "b461a200",
   "metadata": {},
   "outputs": [
    {
     "name": "stdout",
     "output_type": "stream",
     "text": [
      "True\n",
      "True\n",
      "6\n",
      "2\n"
     ]
    }
   ],
   "source": [
    "s = \"python programming\"\n",
    "print(s.endswith(\"programming\"))  # True\n",
    "print(s.startswith(\"python\"))     # True\n",
    "\n",
    "s = \"Robul HASAN\"\n",
    "print(s.find(\"HASAN\"))   \n",
    "print(s.rfind(\"b\"))  \n"
   ]
  },
  {
   "cell_type": "markdown",
   "id": "a1fa7ead",
   "metadata": {},
   "source": [
    "Converting & Modifying Strings"
   ]
  },
  {
   "cell_type": "code",
   "execution_count": 22,
   "id": "26dab07b",
   "metadata": {},
   "outputs": [
    {
     "name": "stdout",
     "output_type": "stream",
     "text": [
      "Robiul hasan\n",
      "robiul hasan\n",
      "ROBIUL HASAN\n",
      "Robiul Hasan\n",
      "hasan JISAN\n",
      "I have brought Three chocolates, Three cookies and Three cakes\n",
      "I have brought Three chocolates, Three cookies and two cakes\n"
     ]
    }
   ],
   "source": [
    "s = \"RoBiul HaSan\"\n",
    "print(s.capitalize()) \n",
    "print(s.lower())       \n",
    "print(s.upper())       \n",
    "print(s.title())       \n",
    "\n",
    "s = \"HASAN jisan\"\n",
    "print(s.swapcase())    \n",
    "\n",
    "s = \"I have brought two chocolates, two cookies and two cakes\"\n",
    "print(s.replace(\"two\", \"Three\"))      # replaces all\n",
    "print(s.replace(\"two\", \"Three\", 2))   # replaces first 2 occurrences\n"
   ]
  },
  {
   "cell_type": "markdown",
   "id": "36132ce0",
   "metadata": {},
   "source": [
    "Stripping Unwanted Characters"
   ]
  },
  {
   "cell_type": "code",
   "execution_count": 23,
   "id": "4f74ba2b",
   "metadata": {},
   "outputs": [
    {
     "name": "stdout",
     "output_type": "stream",
     "text": [
      "my name is khan\n",
      "my name is khan!!!\n",
      "my name is khan\n"
     ]
    }
   ],
   "source": [
    "s = \" my name is khan\"\n",
    "print(s.lstrip())  # remove leading whitespace\n",
    "\n",
    "s = \"my name is khan!!! \\t \\t \\t\"\n",
    "print(s.rstrip())  # remove trailing whitespace\n",
    "\n",
    "s = \"\\t \\t my name is khan \\t \\t\"\n",
    "print(s.strip())   # remove leading & trailing whitespace\n"
   ]
  },
  {
   "cell_type": "markdown",
   "id": "f4e7a8f7",
   "metadata": {},
   "source": [
    "String Alignment"
   ]
  },
  {
   "cell_type": "code",
   "execution_count": 24,
   "id": "01155520",
   "metadata": {},
   "outputs": [
    {
     "name": "stdout",
     "output_type": "stream",
     "text": [
      "    Apple Macos     \n",
      "Apple Macos    \n",
      "    Apple Macos\n"
     ]
    }
   ],
   "source": [
    "s = \"Apple Macos\"\n",
    "print(s.center(20))  # '    Apple Macos     '\n",
    "print(s.ljust(15))   # 'Apple Macos    '\n",
    "print(s.rjust(15))   # '    Apple Macos'\n"
   ]
  }
 ],
 "metadata": {
  "kernelspec": {
   "display_name": "Python 3",
   "language": "python",
   "name": "python3"
  },
  "language_info": {
   "codemirror_mode": {
    "name": "ipython",
    "version": 3
   },
   "file_extension": ".py",
   "mimetype": "text/x-python",
   "name": "python",
   "nbconvert_exporter": "python",
   "pygments_lexer": "ipython3",
   "version": "3.10.8"
  }
 },
 "nbformat": 4,
 "nbformat_minor": 5
}
