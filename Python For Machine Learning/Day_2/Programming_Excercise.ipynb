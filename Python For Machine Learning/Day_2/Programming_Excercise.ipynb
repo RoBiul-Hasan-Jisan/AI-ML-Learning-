{
 "cells": [
  {
   "cell_type": "markdown",
   "id": "ade37553",
   "metadata": {},
   "source": [
    "List Slicing"
   ]
  },
  {
   "cell_type": "code",
   "execution_count": 16,
   "id": "5fabdd48",
   "metadata": {},
   "outputs": [
    {
     "name": "stdout",
     "output_type": "stream",
     "text": [
      "['a', 'b', 'c']\n",
      "a, b, c, \n",
      "['e', 'f', 'g']\n",
      "['e', 'f', 'g', 'h', 'i', 'j']\n"
     ]
    }
   ],
   "source": [
    "# Create a list of first ten letters\n",
    "alph_lst = [\"a\", \"b\", \"c\", \"d\", \"e\", \"f\", \"g\", \"h\", \"i\", \"j\"]\n",
    "\n",
    "# (a) Print the first three letters\n",
    "print(alph_lst[0:3])  # ['a', 'b', 'c']\n",
    "\n",
    "# Alternative using loop\n",
    "for i in range(0, 3):\n",
    "    print(alph_lst[i], end=\", \")  # a, b, c,\n",
    "print()\n",
    "\n",
    "# (b) Print any three letters from the middle\n",
    "print(alph_lst[4:7])  # ['e', 'f', 'g']\n",
    "\n",
    "# (c) Print letters from a particular index to the end\n",
    "print(alph_lst[4:])  # ['e', 'f', 'g', 'h', 'i', 'j']\n"
   ]
  },
  {
   "cell_type": "markdown",
   "id": "3ecaf4ba",
   "metadata": {},
   "source": [
    "Sum using reduce()"
   ]
  },
  {
   "cell_type": "code",
   "execution_count": 17,
   "id": "b3b6f13c",
   "metadata": {},
   "outputs": [
    {
     "name": "stdout",
     "output_type": "stream",
     "text": [
      "Sum of the values in list: 55\n"
     ]
    }
   ],
   "source": [
    "from functools import reduce\n",
    "\n",
    "def add(num1, num2):\n",
    "    return num1 + num2\n",
    "\n",
    "num_lst = [1, 2, 3, 4, 5, 6, 7, 8, 9, 10]\n",
    "sum_of_numbers = reduce(add, num_lst)\n",
    "print(\"Sum of the values in list:\", sum_of_numbers)  # 55\n"
   ]
  },
  {
   "cell_type": "markdown",
   "id": "6c773e32",
   "metadata": {},
   "source": [
    "Convert List to Tuple and vice versa"
   ]
  },
  {
   "cell_type": "code",
   "execution_count": 18,
   "id": "d7e24af6",
   "metadata": {},
   "outputs": [
    {
     "name": "stdout",
     "output_type": "stream",
     "text": [
      "('a', 'b', 'c')\n",
      "['a', 'b', 'c']\n"
     ]
    }
   ],
   "source": [
    "# Create a list\n",
    "lst = [\"a\", \"b\", \"c\"]\n",
    "\n",
    "# Create a tuple from the list\n",
    "tple = tuple(lst)\n",
    "print(tple)  # ('a', 'b', 'c')\n",
    "\n",
    "# Convert tuple back to list\n",
    "lst2 = list(tple)\n",
    "print(lst2)  # ['a', 'b', 'c']\n"
   ]
  },
  {
   "cell_type": "markdown",
   "id": "6ee6d8c8",
   "metadata": {},
   "source": [
    "Tuple with a single element"
   ]
  },
  {
   "cell_type": "code",
   "execution_count": 19,
   "id": "8153d989",
   "metadata": {},
   "outputs": [
    {
     "name": "stdout",
     "output_type": "stream",
     "text": [
      "('a', 'b', 'c')\n",
      "3\n"
     ]
    }
   ],
   "source": [
    "# Tuple with elements \"a\", \"b\", \"c\"\n",
    "tple = tuple(\"abc\")\n",
    "print(tple)      # ('a', 'b', 'c')\n",
    "print(len(tple)) # 3\n"
   ]
  },
  {
   "cell_type": "markdown",
   "id": "18fae637",
   "metadata": {},
   "source": [
    "Dictionary and Bill Calculation"
   ]
  },
  {
   "cell_type": "code",
   "execution_count": 20,
   "id": "e80b1e05",
   "metadata": {},
   "outputs": [
    {
     "name": "stdout",
     "output_type": "stream",
     "text": [
      "Product bill: 57000\n"
     ]
    }
   ],
   "source": [
    "# Create dictionary of products and MRPs\n",
    "products = {\"laptop\": 50000, \"mouse\": 2000, \"keyboard\": 5000}\n",
    "\n",
    "# Calculate total bill\n",
    "total_bill = sum(products.values())\n",
    "print(\"Product bill:\", total_bill)  # Product bill: 57000\n"
   ]
  },
  {
   "cell_type": "markdown",
   "id": "fcd0a233",
   "metadata": {},
   "source": [
    "Empty Dictionary"
   ]
  },
  {
   "cell_type": "code",
   "execution_count": 21,
   "id": "909d63c0",
   "metadata": {},
   "outputs": [
    {
     "name": "stdout",
     "output_type": "stream",
     "text": [
      "{}\n"
     ]
    }
   ],
   "source": [
    "# Create empty dictionary\n",
    "captains = {}\n",
    "print(captains)  # {}\n"
   ]
  },
  {
   "cell_type": "markdown",
   "id": "06277461",
   "metadata": {},
   "source": [
    "Adding Data to Dictionary"
   ]
  },
  {
   "cell_type": "code",
   "execution_count": 22,
   "id": "50f774b0",
   "metadata": {},
   "outputs": [
    {
     "name": "stdout",
     "output_type": "stream",
     "text": [
      "{'Enterprise': 'Picard', 'Voyager': 'Janeway', 'Defiant': 'Sisko', 'Discovery': 'Unknown'}\n"
     ]
    }
   ],
   "source": [
    "dic = {}\n",
    "dic[\"Enterprise\"] = \"Picard\"\n",
    "dic[\"Voyager\"] = \"Janeway\"\n",
    "dic[\"Defiant\"] = \"Sisko\"\n",
    "\n",
    "# Adding a ship only if not present\n",
    "if \"Discovery\" not in dic:\n",
    "    dic[\"Discovery\"] = \"Unknown\"\n",
    "\n",
    "print(dic)\n",
    "# {'Enterprise': 'Picard', 'Voyager': 'Janeway', 'Defiant': 'Sisko', 'Discovery': 'Unknown'}\n"
   ]
  },
  {
   "cell_type": "markdown",
   "id": "5914734f",
   "metadata": {},
   "source": [
    "Display Ship and Captain Names"
   ]
  },
  {
   "cell_type": "code",
   "execution_count": 23,
   "id": "d9efcffd",
   "metadata": {},
   "outputs": [
    {
     "name": "stdout",
     "output_type": "stream",
     "text": [
      "The Enterprise is captained by Picard\n",
      "The Voyager is captained by Janeway\n",
      "The Defiant is captained by Sisko\n",
      "The Discovery is captained by Unknown\n"
     ]
    }
   ],
   "source": [
    "for ship_name, captain_name in dic.items():\n",
    "    print(f\"The {ship_name} is captained by {captain_name}\")\n"
   ]
  },
  {
   "cell_type": "markdown",
   "id": "d725c026",
   "metadata": {},
   "source": [
    "Delete an Entry"
   ]
  },
  {
   "cell_type": "code",
   "execution_count": 24,
   "id": "f3b2ef8d",
   "metadata": {},
   "outputs": [
    {
     "name": "stdout",
     "output_type": "stream",
     "text": [
      "{'Enterprise': 'Picard', 'Voyager': 'Janeway', 'Defiant': 'Sisko'}\n"
     ]
    }
   ],
   "source": [
    "# Delete \"Discovery\" from dictionary\n",
    "del dic[\"Discovery\"]\n",
    "print(dic)\n",
    "# {'Enterprise': 'Picard', 'Voyager': 'Janeway', 'Defiant': 'Sisko'}\n"
   ]
  },
  {
   "cell_type": "markdown",
   "id": "c5dfa5a1",
   "metadata": {},
   "source": [
    "Create Dictionary from Tuples"
   ]
  },
  {
   "cell_type": "code",
   "execution_count": 25,
   "id": "84488033",
   "metadata": {},
   "outputs": [
    {
     "name": "stdout",
     "output_type": "stream",
     "text": [
      "{'Enterprise': 'Picard', 'Voyager': 'Janeway', 'Defiant': 'Sisko'}\n"
     ]
    }
   ],
   "source": [
    "key_value_pairs = (\n",
    "    ('Enterprise', 'Picard'),\n",
    "    ('Voyager', 'Janeway'),\n",
    "    ('Defiant', 'Sisko'),\n",
    ")\n",
    "\n",
    "ships = dict(key_value_pairs)\n",
    "print(ships)\n",
    "# {'Enterprise': 'Picard', 'Voyager': 'Janeway', 'Defiant': 'Sisko'}\n"
   ]
  },
  {
   "cell_type": "markdown",
   "id": "3581f467",
   "metadata": {},
   "source": []
  },
  {
   "cell_type": "code",
   "execution_count": null,
   "id": "836ce864",
   "metadata": {},
   "outputs": [],
   "source": []
  },
  {
   "cell_type": "markdown",
   "id": "25c1c8ed",
   "metadata": {},
   "source": []
  },
  {
   "cell_type": "code",
   "execution_count": null,
   "id": "653aa553",
   "metadata": {},
   "outputs": [],
   "source": []
  }
 ],
 "metadata": {
  "language_info": {
   "name": "python"
  }
 },
 "nbformat": 4,
 "nbformat_minor": 5
}
