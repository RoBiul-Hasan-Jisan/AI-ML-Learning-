{
 "cells": [
  {
   "cell_type": "markdown",
   "id": "baedef80",
   "metadata": {},
   "source": [
    "Problem 1: List Slicing\n",
    "\n",
    "Task:\n",
    "Create a list of numbers from 1 to 10.\n",
    "\n",
    "(a) Print the first 5 numbers.\n",
    "\n",
    "(b) Print the last 3 numbers.\n",
    "\n",
    "(c) Print every second number in the list."
   ]
  },
  {
   "cell_type": "code",
   "execution_count": 1,
   "id": "03eeea18",
   "metadata": {},
   "outputs": [
    {
     "name": "stdout",
     "output_type": "stream",
     "text": [
      "[1, 2, 3, 4, 5]\n",
      "[8, 9, 10]\n",
      "[1, 3, 5, 7, 9]\n"
     ]
    }
   ],
   "source": [
    "numbers = list(range(1, 11))  # [1,2,3,4,5,6,7,8,9,10]\n",
    "\n",
    "# (a) First 5 numbers\n",
    "print(numbers[:5])  # [1, 2, 3, 4, 5]\n",
    "\n",
    "# (b) Last 3 numbers\n",
    "print(numbers[-3:])  # [8, 9, 10]\n",
    "\n",
    "# (c) Every second number\n",
    "print(numbers[::2])  # [1, 3, 5, 7, 9]\n"
   ]
  },
  {
   "cell_type": "markdown",
   "id": "b0b24ff0",
   "metadata": {},
   "source": [
    "Problem 2: Sum using reduce()\n",
    "\n",
    "Task: Calculate the sum of even numbers from 1 to 20."
   ]
  },
  {
   "cell_type": "code",
   "execution_count": 3,
   "id": "097249cf",
   "metadata": {},
   "outputs": [
    {
     "name": "stdout",
     "output_type": "stream",
     "text": [
      "110\n"
     ]
    }
   ],
   "source": [
    "from functools import reduce\n",
    "\n",
    "nums = list(range(1, 21))\n",
    "even_nums = [n for n in nums if n % 2 == 0]\n",
    "\n",
    "sum_even = reduce(lambda a, b: a + b, even_nums)\n",
    "print(sum_even)  # 110\n"
   ]
  },
  {
   "cell_type": "markdown",
   "id": "dc31c18d",
   "metadata": {},
   "source": [
    "Problem 3: Convert List ↔ Tuple\n",
    "\n",
    "Task:\n",
    "\n",
    "Create a list [\"x\", \"y\", \"z\"] and convert it to a tuple.\n",
    "\n",
    "Convert the tuple back to a list."
   ]
  },
  {
   "cell_type": "code",
   "execution_count": 4,
   "id": "7cd6f19c",
   "metadata": {},
   "outputs": [
    {
     "name": "stdout",
     "output_type": "stream",
     "text": [
      "('x', 'y', 'z')\n",
      "['x', 'y', 'z']\n"
     ]
    }
   ],
   "source": [
    "lst = [\"x\", \"y\", \"z\"]\n",
    "tple = tuple(lst)\n",
    "print(tple)  # ('x', 'y', 'z')\n",
    "\n",
    "lst2 = list(tple)\n",
    "print(lst2)  # ['x', 'y', 'z']\n"
   ]
  },
  {
   "cell_type": "markdown",
   "id": "dd21ca46",
   "metadata": {},
   "source": [
    "Problem 4: Single-element Tuple\n",
    "\n",
    "Task: Create a tuple with only one element \"Python\" and print its type."
   ]
  },
  {
   "cell_type": "code",
   "execution_count": 5,
   "id": "c04ebfdd",
   "metadata": {},
   "outputs": [
    {
     "name": "stdout",
     "output_type": "stream",
     "text": [
      "('Python',)\n",
      "<class 'tuple'>\n"
     ]
    }
   ],
   "source": [
    "t = (\"Python\",)\n",
    "print(t)        # ('Python',)\n",
    "print(type(t))  # <class 'tuple'>\n"
   ]
  },
  {
   "cell_type": "markdown",
   "id": "5db96550",
   "metadata": {},
   "source": [
    "Problem 5: Dictionary Bill Calculator\n",
    "\n",
    "Task:\n",
    "A customer buys items: {\"pen\": 50, \"notebook\": 200, \"eraser\": 30}. Calculate the total bill."
   ]
  },
  {
   "cell_type": "code",
   "execution_count": 6,
   "id": "ba61b575",
   "metadata": {},
   "outputs": [
    {
     "name": "stdout",
     "output_type": "stream",
     "text": [
      "Total bill: 280\n"
     ]
    }
   ],
   "source": [
    "products = {\"pen\": 50, \"notebook\": 200, \"eraser\": 30}\n",
    "total = sum(products.values())\n",
    "print(\"Total bill:\", total)  # Total bill: 280\n"
   ]
  },
  {
   "cell_type": "markdown",
   "id": "5c5a4003",
   "metadata": {},
   "source": [
    "Problem 6: Dictionary Update\n",
    "\n",
    "Task:\n",
    "You have an empty dictionary captains = {}. Add the following ships:\n",
    "\n",
    "\"Enterprise\": \"Picard\"\n",
    "\n",
    "\"Voyager\": \"Janeway\"\n",
    "\n",
    "\"Defiant\": \"Sisko\"\n",
    "\n",
    "If \"Discovery\" doesn’t exist, set it to \"Unknown\""
   ]
  },
  {
   "cell_type": "code",
   "execution_count": 7,
   "id": "f12efc52",
   "metadata": {},
   "outputs": [
    {
     "name": "stdout",
     "output_type": "stream",
     "text": [
      "{'Enterprise': 'Picard', 'Voyager': 'Janeway', 'Defiant': 'Sisko', 'Discovery': 'Unknown'}\n"
     ]
    }
   ],
   "source": [
    "captains = {}\n",
    "captains[\"Enterprise\"] = \"Picard\"\n",
    "captains[\"Voyager\"] = \"Janeway\"\n",
    "captains[\"Defiant\"] = \"Sisko\"\n",
    "\n",
    "if \"Discovery\" not in captains:\n",
    "    captains[\"Discovery\"] = \"Unknown\"\n",
    "\n",
    "print(captains)\n"
   ]
  },
  {
   "cell_type": "markdown",
   "id": "d7abb340",
   "metadata": {},
   "source": [
    "Problem 7: Traverse Dictionary\n",
    "\n",
    "Task: Print: \"The <ship> is captained by <captain>\" for all ships in the captains dictionary."
   ]
  },
  {
   "cell_type": "code",
   "execution_count": null,
   "id": "a0a467d2",
   "metadata": {},
   "outputs": [],
   "source": [
    "for ship, captain in captains.items():\n",
    "    print(f\"The {ship} is captained by {captain}\")\n"
   ]
  },
  {
   "cell_type": "markdown",
   "id": "36ba8b7f",
   "metadata": {},
   "source": [
    "Problem 8: Tuple Odd Index\n",
    "\n",
    "Task: Given t = (10, 20, 30, 40, 50), create a new tuple with elements at odd indices."
   ]
  },
  {
   "cell_type": "code",
   "execution_count": 8,
   "id": "6c623f57",
   "metadata": {},
   "outputs": [
    {
     "name": "stdout",
     "output_type": "stream",
     "text": [
      "(20, 40)\n"
     ]
    }
   ],
   "source": [
    "t = (10, 20, 30, 40, 50)\n",
    "odd_index_tuple = t[1::2]\n",
    "print(odd_index_tuple)  # (20, 40)\n"
   ]
  },
  {
   "cell_type": "markdown",
   "id": "70b057e5",
   "metadata": {},
   "source": [
    "Problem 9: Set Operations\n",
    "\n",
    "Task:\n",
    "\n",
    "s1 = {1, 2, 3, 4}\n",
    "\n",
    "s2 = {3, 4, 5, 6}\n",
    "Perform:\n",
    "\n",
    "Union\n",
    "\n",
    "Intersection\n",
    "\n",
    "Difference s1 - s2\n",
    "\n",
    "Symmetric Difference"
   ]
  },
  {
   "cell_type": "code",
   "execution_count": 9,
   "id": "80b01e3a",
   "metadata": {},
   "outputs": [
    {
     "name": "stdout",
     "output_type": "stream",
     "text": [
      "{1, 2, 3, 4, 5, 6}\n",
      "{3, 4}\n",
      "{1, 2}\n",
      "{1, 2, 5, 6}\n"
     ]
    }
   ],
   "source": [
    "s1 = {1, 2, 3, 4}\n",
    "s2 = {3, 4, 5, 6}\n",
    "\n",
    "print(s1 | s2)   # Union: {1, 2, 3, 4, 5, 6}\n",
    "print(s1 & s2)   # Intersection: {3, 4}\n",
    "print(s1 - s2)   # Difference: {1, 2}\n",
    "print(s1 ^ s2)   # Symmetric Difference: {1, 2, 5, 6}\n"
   ]
  },
  {
   "cell_type": "markdown",
   "id": "165e308d",
   "metadata": {},
   "source": [
    "You are managing a small bookstore. Perform the following tasks using Python:\n",
    "\n",
    "Strings:\n",
    "\n",
    "You have a string book_title = \"Python Programming Essentials\".\n",
    "\n",
    "Print the first 6 characters, the last 9 characters, and every second character.\n",
    "\n",
    "Lists:\n",
    "\n",
    "Create a list book_prices = [250, 300, 150, 400, 500].\n",
    "\n",
    "Print the first 3 prices, the last 2 prices, and the total sum of prices.\n",
    "\n",
    "Tuples:\n",
    "\n",
    "Convert the list book_prices into a tuple called book_prices_tuple.\n",
    "\n",
    "Find the maximum and minimum price.\n",
    "\n",
    "Create a new tuple discounted = book_prices_tuple * 2 (simulate repeating the prices for 2 weeks).\n",
    "\n",
    "Sets:\n",
    "\n",
    "You have a list of sold books sold_books = [\"Python\", \"Java\", \"Python\", \"C++\", \"Java\"].\n",
    "\n",
    "Convert it into a set to find unique books sold.\n",
    "\n",
    "Check if \"Python\" and \"JavaScript\" are in the set.\n",
    "\n",
    "Dictionaries:\n",
    "\n",
    "Create a dictionary book_stock = {\"Python\": 5, \"Java\": 3, \"C++\": 2}.\n",
    "\n",
    "Add a new book \"JavaScript\" with 4 copies.\n",
    "\n",
    "Print all books and their stock in the format: \"Book Python has 5 copies\".\n",
    "\n",
    "Remove the book \"C++\" from the dictionary."
   ]
  },
  {
   "cell_type": "code",
   "execution_count": 10,
   "id": "a494f40a",
   "metadata": {},
   "outputs": [
    {
     "name": "stdout",
     "output_type": "stream",
     "text": [
      "First 6 characters: Python\n",
      "Last 9 characters: ssentials\n",
      "Every second character: Pto rgamn setas\n",
      "\n",
      "\n",
      "First 3 prices: [250, 300, 150]\n",
      "Last 2 prices: [400, 500]\n",
      "Total sum of prices: 1600\n",
      "\n",
      "\n",
      "Tuple of prices: (250, 300, 150, 400, 500)\n",
      "Max price: 500\n",
      "Min price: 150\n",
      "Discounted tuple: (250, 300, 150, 400, 500, 250, 300, 150, 400, 500)\n",
      "\n",
      "\n",
      "Unique books sold: {'Python', 'C++', 'Java'}\n",
      "Is 'Python' sold? True\n",
      "Is 'JavaScript' sold? False\n",
      "\n",
      "\n",
      "Book Python has 5 copies\n",
      "Book Java has 3 copies\n",
      "Book C++ has 2 copies\n",
      "Book JavaScript has 4 copies\n",
      "Updated stock: {'Python': 5, 'Java': 3, 'JavaScript': 4}\n"
     ]
    }
   ],
   "source": [
    "# 1. Strings\n",
    "book_title = \"Python Programming Essentials\"\n",
    "print(\"First 6 characters:\", book_title[:6])        # Python\n",
    "print(\"Last 9 characters:\", book_title[-9:])       # Essentials\n",
    "print(\"Every second character:\", book_title[::2])  # Pto rgamnEsntals\n",
    "\n",
    "print(\"\\n\")\n",
    "\n",
    "# 2. Lists\n",
    "book_prices = [250, 300, 150, 400, 500]\n",
    "print(\"First 3 prices:\", book_prices[:3])          # [250, 300, 150]\n",
    "print(\"Last 2 prices:\", book_prices[-2:])          # [400, 500]\n",
    "print(\"Total sum of prices:\", sum(book_prices))    # 1600\n",
    "\n",
    "print(\"\\n\")\n",
    "\n",
    "# 3. Tuples\n",
    "book_prices_tuple = tuple(book_prices)\n",
    "print(\"Tuple of prices:\", book_prices_tuple)       # (250, 300, 150, 400, 500)\n",
    "print(\"Max price:\", max(book_prices_tuple))        # 500\n",
    "print(\"Min price:\", min(book_prices_tuple))        # 150\n",
    "\n",
    "discounted = book_prices_tuple * 2\n",
    "print(\"Discounted tuple:\", discounted)             # (250, 300, 150, 400, 500, 250, 300, 150, 400, 500)\n",
    "\n",
    "print(\"\\n\")\n",
    "\n",
    "# 4. Sets\n",
    "sold_books = [\"Python\", \"Java\", \"Python\", \"C++\", \"Java\"]\n",
    "unique_books = set(sold_books)\n",
    "print(\"Unique books sold:\", unique_books)          # {'Python', 'Java', 'C++'}\n",
    "\n",
    "print(\"Is 'Python' sold?\", \"Python\" in unique_books)      # True\n",
    "print(\"Is 'JavaScript' sold?\", \"JavaScript\" in unique_books)  # False\n",
    "\n",
    "print(\"\\n\")\n",
    "\n",
    "# 5. Dictionaries\n",
    "book_stock = {\"Python\": 5, \"Java\": 3, \"C++\": 2}\n",
    "book_stock[\"JavaScript\"] = 4\n",
    "\n",
    "# Print all books and stock\n",
    "for book, stock in book_stock.items():\n",
    "    print(f\"Book {book} has {stock} copies\")\n",
    "\n",
    "# Remove \"C++\"\n",
    "del book_stock[\"C++\"]\n",
    "print(\"Updated stock:\", book_stock)\n"
   ]
  }
 ],
 "metadata": {
  "kernelspec": {
   "display_name": "Python 3",
   "language": "python",
   "name": "python3"
  },
  "language_info": {
   "codemirror_mode": {
    "name": "ipython",
    "version": 3
   },
   "file_extension": ".py",
   "mimetype": "text/x-python",
   "name": "python",
   "nbconvert_exporter": "python",
   "pygments_lexer": "ipython3",
   "version": "3.10.8"
  }
 },
 "nbformat": 4,
 "nbformat_minor": 5
}
