{
 "cells": [
  {
   "cell_type": "markdown",
   "id": "44d18e5c",
   "metadata": {},
   "source": [
    "Creating Dictionaries"
   ]
  },
  {
   "cell_type": "code",
   "execution_count": 12,
   "id": "1f8c1d1e",
   "metadata": {},
   "outputs": [],
   "source": [
    "# Way 1: Using curly braces\n",
    "d1 = {\"name\": \"Robiul\", \"Age\": 22}\n",
    "\n",
    "# Way 2: Using empty dict and assignment\n",
    "d2 = {}\n",
    "d2[\"name\"] = \"Robiul\"\n",
    "d2[\"age\"] = 22\n",
    "\n",
    "# Way 3: Using dict() with keyword arguments\n",
    "d3 = dict(name=\"HASAN\", age=27)\n",
    "\n",
    "# Way 4: Using dict() with a list of tuples\n",
    "d4 = dict([('name', 'HASAN'), ('age', 27)])\n"
   ]
  },
  {
   "cell_type": "markdown",
   "id": "0bc968f3",
   "metadata": {},
   "source": [
    "Accessing Values"
   ]
  },
  {
   "cell_type": "code",
   "execution_count": null,
   "id": "b08cea4a",
   "metadata": {},
   "outputs": [
    {
     "data": {
      "text/plain": [
       "'Robiul'"
      ]
     },
     "execution_count": 2,
     "metadata": {},
     "output_type": "execute_result"
    }
   ],
   "source": [
    "info = dict(name=\"Robiul\", age=27, hobby=\"Cricket\")\n",
    "\n",
    "# Using key\n",
    "info[\"name\"]      \n",
    "\n",
    "# Using get() method\n",
    "info.get(\"name\")   \n"
   ]
  },
  {
   "cell_type": "markdown",
   "id": "233f1395",
   "metadata": {},
   "source": [
    "Adding, Replacing, Deleting"
   ]
  },
  {
   "cell_type": "code",
   "execution_count": null,
   "id": "d3a87501",
   "metadata": {},
   "outputs": [
    {
     "name": "stdout",
     "output_type": "stream",
     "text": [
      "Cricket\n",
      "My name is Hasan. I am 22 years old\n"
     ]
    },
    {
     "data": {
      "text/plain": [
       "'Hasan'"
      ]
     },
     "execution_count": 4,
     "metadata": {},
     "output_type": "execute_result"
    }
   ],
   "source": [
    "info = {\"name\": \"Robiul\", \"age\": 22}\n",
    "\n",
    "# Adding\n",
    "info[\"Hobby\"] = \"Cricket\"\n",
    "\n",
    "# Replacing\n",
    "info[\"name\"] = \"Hasan\"\n",
    "\n",
    "# Accessing\n",
    "print(info[\"Hobby\"])  # Cricket\n",
    "\n",
    "# Formatting dictionary\n",
    "text = \"My name is %(name)s. I am %(age)d years old\" % info\n",
    "print(text)  \n",
    "\n",
    "# Deleting\n",
    "del info[\"age\"]\n",
    "info.pop(\"name\")  # Removes and returns value\n"
   ]
  },
  {
   "cell_type": "markdown",
   "id": "48b9c53f",
   "metadata": {},
   "source": [
    "Dictionary Methods"
   ]
  },
  {
   "cell_type": "code",
   "execution_count": null,
   "id": "968068c2",
   "metadata": {},
   "outputs": [],
   "source": [
    "info = {\"name\": \"Robiul\", \"age\": 22, \"hobby\": \"Cricket\"}\n",
    "\n",
    "# keys, values, items\n",
    "info.keys()     \n",
    "info.values()   \n",
    "info.items()  \n",
    "\n",
    "# Clearing dictionary\n",
    "info.clear()    # {}\n",
    "\n",
    "# Copying dictionary\n",
    "info_copy = info.copy()\n",
    "\n",
    "# Creating dictionary from tuples/lists\n",
    "keys = (\"name\",\"age\",\"hobby\")\n",
    "values = (\"Tareque\",27,\"Cricket\")\n",
    "dic = dict(zip(keys, values))\n"
   ]
  },
  {
   "cell_type": "markdown",
   "id": "5a479074",
   "metadata": {},
   "source": [
    "Nested Dictionaries"
   ]
  },
  {
   "cell_type": "code",
   "execution_count": 7,
   "id": "b36fd004",
   "metadata": {},
   "outputs": [
    {
     "name": "stdout",
     "output_type": "stream",
     "text": [
      "Player: Virat Kohli\n",
      "ODI Runs: 7212\n",
      "Test Runs: 3245\n",
      "Player: Sachin\n",
      "ODI Runs: 18426\n",
      "Test Runs: 15921\n"
     ]
    }
   ],
   "source": [
    "players = {\n",
    "    \"Virat Kohli\": {\"ODI\": 7212, \"Test\": 3245},\n",
    "    \"Sachin\": {\"ODI\": 18426, \"Test\": 15921}\n",
    "}\n",
    "\n",
    "for player_name, player_details in players.items():\n",
    "    print(\"Player:\", player_name)\n",
    "    print(\"ODI Runs:\", player_details[\"ODI\"])\n",
    "    print(\"Test Runs:\", player_details[\"Test\"])\n"
   ]
  },
  {
   "cell_type": "markdown",
   "id": "ca16362e",
   "metadata": {},
   "source": [
    "Histogram of Characters"
   ]
  },
  {
   "cell_type": "code",
   "execution_count": 8,
   "id": "093cdc87",
   "metadata": {},
   "outputs": [
    {
     "name": "stdout",
     "output_type": "stream",
     "text": [
      "{'A': 2, 'P': 2, 'L': 1, 'E': 1}\n"
     ]
    }
   ],
   "source": [
    "def histogram(string):\n",
    "    D = {}\n",
    "    for char in string:\n",
    "        D[char] = D.get(char, 0) + 1\n",
    "    return D\n",
    "\n",
    "print(histogram(\"AAPPLE\"))  # {'A': 2, 'P': 2, 'L': 1, 'E': 1}\n"
   ]
  },
  {
   "cell_type": "markdown",
   "id": "443871f7",
   "metadata": {},
   "source": [
    "Squares of Numbers"
   ]
  },
  {
   "cell_type": "code",
   "execution_count": 9,
   "id": "491949aa",
   "metadata": {},
   "outputs": [
    {
     "name": "stdout",
     "output_type": "stream",
     "text": [
      "{1: 1, 2: 4, 3: 9, 4: 16, 5: 25}\n"
     ]
    }
   ],
   "source": [
    "def sq_of_numbers(n):\n",
    "    return {i: i*i for i in range(1, n+1)}\n",
    "\n",
    "print(sq_of_numbers(5))  # {1:1, 2:4, 3:9, 4:16, 5:25}\n"
   ]
  },
  {
   "cell_type": "markdown",
   "id": "7d8a2717",
   "metadata": {},
   "source": [
    "Count Positive and Negative Numbers"
   ]
  },
  {
   "cell_type": "code",
   "execution_count": 10,
   "id": "e31d46a1",
   "metadata": {},
   "outputs": [
    {
     "name": "stdout",
     "output_type": "stream",
     "text": [
      "{'Pos': 2, 'Neg': 2}\n"
     ]
    }
   ],
   "source": [
    "def pos_neg_number(lst):\n",
    "    dic = {\"Pos\":0, \"Neg\":0}\n",
    "    for i in lst:\n",
    "        if i > 0:\n",
    "            dic[\"Pos\"] += 1\n",
    "        else:\n",
    "            dic[\"Neg\"] += 1\n",
    "    return dic\n",
    "\n",
    "print(pos_neg_number([1,-2,-3,4]))  # {'Pos':2, 'Neg':2}\n"
   ]
  },
  {
   "cell_type": "markdown",
   "id": "a9a91120",
   "metadata": {},
   "source": [
    "Built-in Dictionary Functions"
   ]
  },
  {
   "cell_type": "code",
   "execution_count": null,
   "id": "385e9fdd",
   "metadata": {},
   "outputs": [
    {
     "name": "stdout",
     "output_type": "stream",
     "text": [
      "{'C++': 10, 'Python': 10, 'JavaScript': 10, 'C': 10}\n",
      "dict_values(['Robiul', 22, 'Cricket', 'Programming', 'Manager'])\n"
     ]
    }
   ],
   "source": [
    "dic = {\"name\":\"Robiul\", \"Age\":22, \"Hobby\":\"Cricket\"}\n",
    "\n",
    "len(dic)      \n",
    "str(dic)      \n",
    "dic.copy()   \n",
    "\n",
    "# fromkeys\n",
    "subjects = [\"C++\",\"Python\",\"JavaScript\",\"C\"]\n",
    "dic2 = dict.fromkeys(subjects, 10)\n",
    "print(dic2)  # {'C++':10,'Python':10,'JavaScript':10,'C':10}\n",
    "\n",
    "# update\n",
    "dic.update({\"Passion\":\"Programming\", \"Ocopassion\":\"Manager\"})\n",
    "print(dic.values())\n"
   ]
  },
  {
   "cell_type": "markdown",
   "id": "fa2e0ceb",
   "metadata": {},
   "source": [
    "Difference Between List and Dictionary\n",
    "\n",
    "List: ordered, indexed by numbers\n",
    "\n",
    "Dictionary: key-value mapping, keys can be any immutable type\n",
    "\n",
    "List → lookup by position, Dictionary → lookup by key"
   ]
  },
  {
   "cell_type": "markdown",
   "id": "291a7428",
   "metadata": {},
   "source": [
    "When to Use Which Data Structure\n",
    "\n",
    "List → sequential collection, frequent modifications\n",
    "\n",
    "Set → unique, unordered elements\n",
    "\n",
    "Tuple → immutable, heterogeneous, memory-efficient\n",
    "\n",
    "Dictionary → key-value mapping, instant lookups"
   ]
  },
  {
   "cell_type": "code",
   "execution_count": null,
   "id": "a73a89ae",
   "metadata": {},
   "outputs": [],
   "source": []
  }
 ],
 "metadata": {
  "kernelspec": {
   "display_name": "Python 3",
   "language": "python",
   "name": "python3"
  },
  "language_info": {
   "codemirror_mode": {
    "name": "ipython",
    "version": 3
   },
   "file_extension": ".py",
   "mimetype": "text/x-python",
   "name": "python",
   "nbconvert_exporter": "python",
   "pygments_lexer": "ipython3",
   "version": "3.10.8"
  }
 },
 "nbformat": 4,
 "nbformat_minor": 5
}
