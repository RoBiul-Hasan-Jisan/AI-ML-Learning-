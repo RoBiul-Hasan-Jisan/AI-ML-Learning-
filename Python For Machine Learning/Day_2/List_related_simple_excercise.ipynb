{
 "cells": [
  {
   "cell_type": "markdown",
   "id": "23218517",
   "metadata": {},
   "source": [
    "Average of List Elements"
   ]
  },
  {
   "cell_type": "code",
   "execution_count": 1,
   "id": "0c8cb188",
   "metadata": {},
   "outputs": [
    {
     "name": "stdout",
     "output_type": "stream",
     "text": [
      "List: [1, 2, 3, 4, 5]\n",
      "Average: 3.0\n"
     ]
    }
   ],
   "source": [
    "def average(lst):\n",
    "    print(\"List:\", lst)\n",
    "    avg = sum(lst) / len(lst)\n",
    "    return avg\n",
    "\n",
    "lst = [1, 2, 3, 4, 5]\n",
    "avrg = average(lst)\n",
    "print(\"Average:\", avrg)\n"
   ]
  },
  {
   "cell_type": "markdown",
   "id": "8c6c624d",
   "metadata": {},
   "source": [
    "List of Even Numbers"
   ]
  },
  {
   "cell_type": "code",
   "execution_count": 2,
   "id": "c760d64b",
   "metadata": {},
   "outputs": [
    {
     "name": "stdout",
     "output_type": "stream",
     "text": [
      "[10, 12, 14, 16, 18]\n"
     ]
    }
   ],
   "source": [
    "def even_number_lst(start, end):\n",
    "    even_lst = [item for item in range(start, end) if item % 2 == 0]\n",
    "    return even_lst\n",
    "\n",
    "print(even_number_lst(10, 20))\n"
   ]
  },
  {
   "cell_type": "markdown",
   "id": "b792e0df",
   "metadata": {},
   "source": [
    "Palindrome List Check"
   ]
  },
  {
   "cell_type": "code",
   "execution_count": 3,
   "id": "c060001b",
   "metadata": {},
   "outputs": [
    {
     "name": "stdout",
     "output_type": "stream",
     "text": [
      "[1, 2, 3, 2, 1] : is a palindrome list\n"
     ]
    },
    {
     "data": {
      "text/plain": [
       "True"
      ]
     },
     "execution_count": 3,
     "metadata": {},
     "output_type": "execute_result"
    }
   ],
   "source": [
    "def is_lst_palindrome(lst):\n",
    "    if lst == lst[::-1]:\n",
    "        print(lst, \": is a palindrome list\")\n",
    "        return True\n",
    "    else:\n",
    "        print(lst, \": is not a palindrome list\")\n",
    "        return False\n",
    "\n",
    "is_lst_palindrome([1, 2, 3, 2, 1])\n"
   ]
  },
  {
   "cell_type": "markdown",
   "id": "22261513",
   "metadata": {},
   "source": [
    "Check Duplicates in a List"
   ]
  },
  {
   "cell_type": "code",
   "execution_count": 4,
   "id": "2df0dc13",
   "metadata": {},
   "outputs": [
    {
     "name": "stdout",
     "output_type": "stream",
     "text": [
      "[1, 2, 3, 4, 5, 2, 1, 7, 8] -> True\n",
      "[1, 2, 3, 4, 5] -> False\n"
     ]
    }
   ],
   "source": [
    "def check_duplicate(lst):\n",
    "    seen = set()\n",
    "    for item in lst:\n",
    "        if item in seen:\n",
    "            return True\n",
    "        seen.add(item)\n",
    "    return False\n",
    "\n",
    "# Sample Test\n",
    "lst = [1, 2, 3, 4, 5, 2, 1, 7, 8]\n",
    "print(lst, \"->\", check_duplicate(lst))\n",
    "\n",
    "lst1 = [1, 2, 3, 4, 5]\n",
    "print(lst1, \"->\", check_duplicate(lst1))\n"
   ]
  },
  {
   "cell_type": "markdown",
   "id": "866749c7",
   "metadata": {},
   "source": [
    "Return Prime Numbers from a List"
   ]
  },
  {
   "cell_type": "code",
   "execution_count": 5,
   "id": "857a0e5e",
   "metadata": {},
   "outputs": [
    {
     "name": "stdout",
     "output_type": "stream",
     "text": [
      "Prime numbers: [2, 3, 5, 7]\n"
     ]
    }
   ],
   "source": [
    "import math\n",
    "\n",
    "def is_prime(n):\n",
    "    if n < 2:\n",
    "        return False\n",
    "    for i in range(2, int(math.sqrt(n)) + 1):\n",
    "        if n % i == 0:\n",
    "            return False\n",
    "    return True\n",
    "\n",
    "# Sample Test\n",
    "numbers = [2, 3, 4, 5, 6, 7, 8, 9, 10]\n",
    "prime_numbers = [n for n in numbers if is_prime(n)]\n",
    "print(\"Prime numbers:\", prime_numbers)\n"
   ]
  }
 ],
 "metadata": {
  "kernelspec": {
   "display_name": "Python 3",
   "language": "python",
   "name": "python3"
  },
  "language_info": {
   "codemirror_mode": {
    "name": "ipython",
    "version": 3
   },
   "file_extension": ".py",
   "mimetype": "text/x-python",
   "name": "python",
   "nbconvert_exporter": "python",
   "pygments_lexer": "ipython3",
   "version": "3.10.8"
  }
 },
 "nbformat": 4,
 "nbformat_minor": 5
}
