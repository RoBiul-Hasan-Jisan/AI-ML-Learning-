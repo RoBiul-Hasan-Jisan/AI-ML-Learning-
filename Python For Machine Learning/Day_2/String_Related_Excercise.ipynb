{
 "cells": [
  {
   "cell_type": "markdown",
   "id": "22e6f074",
   "metadata": {},
   "source": [
    "Count Occurrences of a Letter"
   ]
  },
  {
   "cell_type": "code",
   "execution_count": 1,
   "id": "a23c8b1b",
   "metadata": {},
   "outputs": [
    {
     "name": "stdout",
     "output_type": "stream",
     "text": [
      "Word: Bangladesh\n",
      "Letter to count: a\n",
      "Number of occurrences of 'a' = 2\n"
     ]
    }
   ],
   "source": [
    "def count_letter(word, letter):\n",
    "    print(\"Word:\", word)\n",
    "    print(\"Letter to count:\", letter)\n",
    "    count = 0\n",
    "    for char in word:\n",
    "        if char == letter:\n",
    "            count += 1\n",
    "    return count\n",
    "\n",
    "total = count_letter(\"Bangladesh\", \"a\")\n",
    "print(\"Number of occurrences of 'a' =\", total)\n"
   ]
  },
  {
   "cell_type": "markdown",
   "id": "4b8589b3",
   "metadata": {},
   "source": [
    "Count 'b' in a Word"
   ]
  },
  {
   "cell_type": "code",
   "execution_count": 2,
   "id": "a11cfc31",
   "metadata": {},
   "outputs": [
    {
     "name": "stdout",
     "output_type": "stream",
     "text": [
      "Word: abba abbabababab\n",
      "Number of 'b' = 8\n"
     ]
    }
   ],
   "source": [
    "def countB(word):\n",
    "    print(\"Word:\", word)\n",
    "    count = 0\n",
    "    for char in word:\n",
    "        if char == \"b\":\n",
    "            count += 1\n",
    "    return count\n",
    "\n",
    "countOfB = countB(\"abba abbabababab\")\n",
    "print(\"Number of 'b' =\", countOfB)\n"
   ]
  },
  {
   "cell_type": "markdown",
   "id": "f821e6a6",
   "metadata": {},
   "source": [
    "Count Uppercase and Lowercase Letters"
   ]
  },
  {
   "cell_type": "code",
   "execution_count": 3,
   "id": "b2e32dd6",
   "metadata": {},
   "outputs": [
    {
     "name": "stdout",
     "output_type": "stream",
     "text": [
      "Sentence: sdggvfgSDD\n",
      "Total uppercase letters: 3\n",
      "Total lowercase letters: 7\n"
     ]
    }
   ],
   "source": [
    "def count_letter_cases(sentence):\n",
    "    print(\"Sentence:\", sentence)\n",
    "    upper_case_counter = 0\n",
    "    lower_case_counter = 0\n",
    "    for char in sentence:\n",
    "        if char.isupper():\n",
    "            upper_case_counter += 1\n",
    "        elif char.islower():\n",
    "            lower_case_counter += 1\n",
    "    return upper_case_counter, lower_case_counter\n",
    "\n",
    "sentence = input(\"Enter the sentence: \")\n",
    "num_upper, num_lower = count_letter_cases(sentence)\n",
    "print(\"Total uppercase letters:\", num_upper)\n",
    "print(\"Total lowercase letters:\", num_lower)\n"
   ]
  },
  {
   "cell_type": "markdown",
   "id": "c92b4d05",
   "metadata": {},
   "source": [
    "Reverse a Word"
   ]
  },
  {
   "cell_type": "code",
   "execution_count": 4,
   "id": "0c726e9d",
   "metadata": {},
   "outputs": [
    {
     "name": "stdout",
     "output_type": "stream",
     "text": [
      "Original Word: Python\n",
      "Reversed Word: nohtyP\n"
     ]
    }
   ],
   "source": [
    "def reverse_word(word):\n",
    "    print(\"Original Word:\", word)\n",
    "    return word[::-1]\n",
    "\n",
    "rev_word = reverse_word(\"Python\")\n",
    "print(\"Reversed Word:\", rev_word)\n"
   ]
  },
  {
   "cell_type": "markdown",
   "id": "4669c5bd",
   "metadata": {},
   "source": [
    "Extract Vowels from a Word"
   ]
  },
  {
   "cell_type": "code",
   "execution_count": 6,
   "id": "c1bf2986",
   "metadata": {},
   "outputs": [
    {
     "name": "stdout",
     "output_type": "stream",
     "text": [
      "Original Word: Robiul\n",
      "Vowels found: oiu\n"
     ]
    }
   ],
   "source": [
    "def get_vowels(word):\n",
    "    print(\"Original Word:\", word)\n",
    "    vowels = \"\"\n",
    "    for char in word:\n",
    "        if char in \"aeiouAEIOU\":\n",
    "            vowels += char\n",
    "    return vowels\n",
    "\n",
    "vowels_found = get_vowels(\"Robiul\")\n",
    "print(\"Vowels found:\", vowels_found)\n"
   ]
  },
  {
   "cell_type": "markdown",
   "id": "ae9761a8",
   "metadata": {},
   "source": [
    "Check if a String is a Palindrome"
   ]
  },
  {
   "cell_type": "code",
   "execution_count": 8,
   "id": "7d753aae",
   "metadata": {},
   "outputs": [
    {
     "name": "stdout",
     "output_type": "stream",
     "text": [
      "This string is palindrome\n"
     ]
    }
   ],
   "source": [
    "def palindrome(string):\n",
    "    if string == string[::-1]:\n",
    "        return \"This string is palindrome\"\n",
    "    else:\n",
    "        return \"This string is not palindrome\"\n",
    "\n",
    "text = input(\"Enter a word: \")\n",
    "result = palindrome(text)\n",
    "print(result)\n"
   ]
  },
  {
   "cell_type": "markdown",
   "id": "74224e3e",
   "metadata": {},
   "source": [
    "Shortest Path from Directions"
   ]
  },
  {
   "cell_type": "code",
   "execution_count": 10,
   "id": "c00ae1fd",
   "metadata": {},
   "outputs": [
    {
     "name": "stdout",
     "output_type": "stream",
     "text": [
      "5.0\n"
     ]
    }
   ],
   "source": [
    "import math\n",
    "\n",
    "def find_shortest_path(path):\n",
    "    x, y = 0, 0\n",
    "    for i in path:\n",
    "        if i == \"E\":\n",
    "            x += 1\n",
    "        elif i == \"W\":\n",
    "            x -= 1\n",
    "        elif i == \"N\":\n",
    "            y += 1\n",
    "        elif i == \"S\":\n",
    "            y -= 1\n",
    "    return math.sqrt(x**2 + y**2)\n",
    "\n",
    "print(find_shortest_path(\"WNEENESENNN\"))\n"
   ]
  },
  {
   "cell_type": "markdown",
   "id": "fba2eb0b",
   "metadata": {},
   "source": [
    "Extract Substring from a String"
   ]
  },
  {
   "cell_type": "code",
   "execution_count": 11,
   "id": "15850762",
   "metadata": {},
   "outputs": [
    {
     "name": "stdout",
     "output_type": "stream",
     "text": [
      "HelloWo\n"
     ]
    }
   ],
   "source": [
    "def substring(string, start_index, end_index):\n",
    "    return string[start_index:end_index]\n",
    "\n",
    "print(substring(\"HelloWorld\", 0, 7))\n"
   ]
  }
 ],
 "metadata": {
  "kernelspec": {
   "display_name": "Python 3",
   "language": "python",
   "name": "python3"
  },
  "language_info": {
   "codemirror_mode": {
    "name": "ipython",
    "version": 3
   },
   "file_extension": ".py",
   "mimetype": "text/x-python",
   "name": "python",
   "nbconvert_exporter": "python",
   "pygments_lexer": "ipython3",
   "version": "3.10.8"
  }
 },
 "nbformat": 4,
 "nbformat_minor": 5
}
