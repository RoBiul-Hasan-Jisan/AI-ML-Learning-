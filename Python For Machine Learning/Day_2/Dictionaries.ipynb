{
 "cells": [
  {
   "cell_type": "markdown",
   "id": "cf4617c1",
   "metadata": {},
   "source": [
    "Creating Dictionaries"
   ]
  },
  {
   "cell_type": "code",
   "execution_count": 3,
   "id": "564ce52e",
   "metadata": {},
   "outputs": [],
   "source": [
    "# Way 1\n",
    "d1 = {\"name\": \"Robiul\", \"age\": 22}\n",
    "\n",
    "# Way 2\n",
    "d2 = {}\n",
    "d2[\"name\"] = \"Robiul\"\n",
    "d2[\"age\"] = 22\n",
    "\n",
    "# Way 3\n",
    "d3 = dict(name=\"Robiul\", age=22)\n",
    "\n",
    "# Way 4\n",
    "d4 = dict([(\"name\", \"Robiul\"), (\"age\", 22)])\n"
   ]
  },
  {
   "cell_type": "markdown",
   "id": "f23c506d",
   "metadata": {},
   "source": [
    "Accessing Values"
   ]
  },
  {
   "cell_type": "code",
   "execution_count": 7,
   "id": "0dc766a1",
   "metadata": {},
   "outputs": [
    {
     "name": "stdout",
     "output_type": "stream",
     "text": [
      "MARAMARI\n"
     ]
    },
    {
     "data": {
      "text/plain": [
       "22"
      ]
     },
     "execution_count": 7,
     "metadata": {},
     "output_type": "execute_result"
    }
   ],
   "source": [
    "info = dict(name=\"Shakib ALL HASAN\", age=22, hobby=\"MARAMARI\")\n",
    "\n",
    "# Using key\n",
    "info[\"name\"]   \n",
    "\n",
    "# Using get()\n",
    "print (info.get(\"hobby\") )\n",
    "info.get(\"age\")\n"
   ]
  },
  {
   "cell_type": "markdown",
   "id": "d9e5ac72",
   "metadata": {},
   "source": [
    "Dictionary Methods\n",
    "keys() → all keys\n",
    "\n",
    "values() → all values\n",
    "\n",
    "items() → all (key, value) pairs\n",
    "\n",
    "clear() → empties dictionary\n",
    "\n",
    "copy() → shallow copy\n",
    "\n",
    "fromkeys(keys, value) → creates dictionary with given keys\n",
    "\n",
    "update(dict2) → merges dictionaries"
   ]
  },
  {
   "cell_type": "markdown",
   "id": "f54e3de4",
   "metadata": {},
   "source": [
    "Adding, Replacing, Deleting"
   ]
  },
  {
   "cell_type": "code",
   "execution_count": 9,
   "id": "cfc18a65",
   "metadata": {},
   "outputs": [
    {
     "data": {
      "text/plain": [
       "'HASAn'"
      ]
     },
     "execution_count": 9,
     "metadata": {},
     "output_type": "execute_result"
    }
   ],
   "source": [
    "info = {\"name\": \"Robiul\", \"age\": 27}\n",
    "info[\"hobby\"] = \"Cricket\"           # Add\n",
    "info[\"name\"] = \"HASAn\"            # Replace\n",
    "del info[\"age\"]                     # Delete using del\n",
    "info.pop(\"name\")                    # Delete using pop()\n"
   ]
  },
  {
   "cell_type": "markdown",
   "id": "4f0c1927",
   "metadata": {},
   "source": [
    "Traversing Dictionaries"
   ]
  },
  {
   "cell_type": "code",
   "execution_count": 10,
   "id": "57bf9c91",
   "metadata": {},
   "outputs": [
    {
     "name": "stdout",
     "output_type": "stream",
     "text": [
      "name : Robiul\n",
      "age : 22\n",
      "hobby : Cricket\n",
      "name : Robiul\n",
      "age : 22\n",
      "hobby : Cricket\n"
     ]
    }
   ],
   "source": [
    "info = {\"name\": \"Robiul\", \"age\": 22, \"hobby\": \"Cricket\"}\n",
    "\n",
    "# Way 1\n",
    "for key, value in info.items():\n",
    "    print(key, \":\", value)\n",
    "\n",
    "# Way 2\n",
    "for key in info:\n",
    "    print(key, \":\", info[key])\n"
   ]
  },
  {
   "cell_type": "markdown",
   "id": "42ed532e",
   "metadata": {},
   "source": [
    "Nested Dictionaries"
   ]
  },
  {
   "cell_type": "code",
   "execution_count": 11,
   "id": "a5c5f7d3",
   "metadata": {},
   "outputs": [
    {
     "name": "stdout",
     "output_type": "stream",
     "text": [
      "Player: Virat Kohli\n",
      "ODI Runs: 7212\n",
      "Test Runs: 3245\n",
      "Player: Sachin\n",
      "ODI Runs: 18426\n",
      "Test Runs: 15921\n"
     ]
    }
   ],
   "source": [
    "players = {\n",
    "    \"Virat Kohli\": {\"ODI\": 7212, \"Test\": 3245},\n",
    "    \"Sachin\": {\"ODI\": 18426, \"Test\": 15921}\n",
    "}\n",
    "\n",
    "for name, stats in players.items():\n",
    "    print(\"Player:\", name)\n",
    "    print(\"ODI Runs:\", stats[\"ODI\"])\n",
    "    print(\"Test Runs:\", stats[\"Test\"])\n"
   ]
  },
  {
   "cell_type": "markdown",
   "id": "d65a3beb",
   "metadata": {},
   "source": [
    "Programs on Dictionaries"
   ]
  },
  {
   "cell_type": "markdown",
   "id": "194ddd36",
   "metadata": {},
   "source": [
    "Character Frequency"
   ]
  },
  {
   "cell_type": "code",
   "execution_count": 12,
   "id": "b80e81ac",
   "metadata": {},
   "outputs": [
    {
     "name": "stdout",
     "output_type": "stream",
     "text": [
      "{'A': 2, 'P': 2, 'L': 1, 'E': 1}\n"
     ]
    }
   ],
   "source": [
    "def histogram(s):\n",
    "    d = {}\n",
    "    for char in s:\n",
    "        d[char] = d.get(char, 0) + 1\n",
    "    return d\n",
    "\n",
    "print(histogram(\"AAPPLE\"))  # {'A':2,'P':2,'L':1,'E':1}\n"
   ]
  },
  {
   "cell_type": "markdown",
   "id": "ada2ca3f",
   "metadata": {},
   "source": [
    "Squares Dictionary"
   ]
  },
  {
   "cell_type": "code",
   "execution_count": 13,
   "id": "b84b14d8",
   "metadata": {},
   "outputs": [
    {
     "name": "stdout",
     "output_type": "stream",
     "text": [
      "{1: 1, 2: 4, 3: 9, 4: 16, 5: 25}\n"
     ]
    }
   ],
   "source": [
    "def squares(n):\n",
    "    return {i: i*i for i in range(1, n+1)}\n",
    "\n",
    "print(squares(5))  # {1:1,2:4,3:9,4:16,5:25}\n"
   ]
  },
  {
   "cell_type": "markdown",
   "id": "7f063ea7",
   "metadata": {},
   "source": [
    "Positive & Negative Count"
   ]
  },
  {
   "cell_type": "code",
   "execution_count": 14,
   "id": "0212a148",
   "metadata": {},
   "outputs": [
    {
     "name": "stdout",
     "output_type": "stream",
     "text": [
      "{'Pos': 2, 'Neg': 2}\n"
     ]
    }
   ],
   "source": [
    "def pos_neg(lst):\n",
    "    result = {\"Pos\": 0, \"Neg\": 0}\n",
    "    for x in lst:\n",
    "        result[\"Pos\" if x > 0 else \"Neg\"] += 1\n",
    "    return result\n",
    "\n",
    "print(pos_neg([1, -2, -3, 4]))  # {'Pos': 2, 'Neg': 2}\n"
   ]
  },
  {
   "cell_type": "markdown",
   "id": "1eb0e8bc",
   "metadata": {},
   "source": [
    "Built-in Functions"
   ]
  },
  {
   "cell_type": "code",
   "execution_count": 16,
   "id": "c816babb",
   "metadata": {},
   "outputs": [
    {
     "data": {
      "text/plain": [
       "{'name': 'Robiul', 'age': 22, 'hobby': 'Cricket'}"
      ]
     },
     "execution_count": 16,
     "metadata": {},
     "output_type": "execute_result"
    }
   ],
   "source": [
    "dic = {\"name\": \"Robiul\", \"age\": 22, \"hobby\": \"Cricket\"}\n",
    "\n",
    "len(dic)      # 3\n",
    "str(dic)      # \"{'name': 'Emdadul', 'age': 27, 'hobby': 'Cricket'}\"\n",
    "dic.copy()    # shallow copy\n"
   ]
  },
  {
   "cell_type": "markdown",
   "id": "6b7418f6",
   "metadata": {},
   "source": [
    "List vs Dictionary\n",
    "\n",
    "List: ordered, indexed by numbers\n",
    "\n",
    "Dictionary: unordered (Python 3.6+ keeps insertion order), indexed by keys\n",
    "\n",
    "List → lookup by position\n",
    "\n",
    "Dict → lookup by key"
   ]
  },
  {
   "cell_type": "markdown",
   "id": "688fac57",
   "metadata": {},
   "source": [
    "When to Use What\n",
    "\n",
    "List → sequential data, frequent modifications\n",
    "\n",
    "Set → unique, unordered elements\n",
    "\n",
    "Tuple → immutable, lightweight, fixed collection\n",
    "\n",
    "Dictionary → key-value mapping, fast lookups"
   ]
  }
 ],
 "metadata": {
  "kernelspec": {
   "display_name": "Python 3",
   "language": "python",
   "name": "python3"
  },
  "language_info": {
   "codemirror_mode": {
    "name": "ipython",
    "version": 3
   },
   "file_extension": ".py",
   "mimetype": "text/x-python",
   "name": "python",
   "nbconvert_exporter": "python",
   "pygments_lexer": "ipython3",
   "version": "3.10.8"
  }
 },
 "nbformat": 4,
 "nbformat_minor": 5
}
