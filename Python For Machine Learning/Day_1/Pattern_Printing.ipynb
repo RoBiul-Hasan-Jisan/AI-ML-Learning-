{
 "cells": [
  {
   "cell_type": "code",
   "execution_count": 1,
   "id": "8bfe86ae",
   "metadata": {},
   "outputs": [
    {
     "name": "stdout",
     "output_type": "stream",
     "text": [
      "Print Character Pattern\n",
      "\n",
      "A \n",
      "B C \n",
      "D E F \n",
      "G H I J \n"
     ]
    }
   ],
   "source": [
    "print(\"Print Character Pattern\")\n",
    "char = 64   # ASCII before 'A'\n",
    "for i in range(5):\n",
    "    for j in range(1, i+1):\n",
    "        print(chr(char+1), end=\" \")\n",
    "        char += 1\n",
    "    print()\n"
   ]
  },
  {
   "cell_type": "code",
   "execution_count": 2,
   "id": "ac664dae",
   "metadata": {},
   "outputs": [
    {
     "name": "stdout",
     "output_type": "stream",
     "text": [
      "* * * * * \n",
      "*       * \n",
      "*       * \n",
      "* * * * * \n"
     ]
    }
   ],
   "source": [
    "def hollow_rectangle(total_rows, total_columns):\n",
    "    for i in range(1, total_rows+1):\n",
    "        for j in range(1, total_columns+1):\n",
    "            if i==1 or i==total_rows or j==1 or j==total_columns:\n",
    "                print(\"*\", end=\" \")\n",
    "            else:\n",
    "                print(\" \", end=\" \")\n",
    "        print()\n",
    "\n",
    "hollow_rectangle(4,5)\n"
   ]
  },
  {
   "cell_type": "code",
   "execution_count": 3,
   "id": "0a5038ed",
   "metadata": {},
   "outputs": [
    {
     "name": "stdout",
     "output_type": "stream",
     "text": [
      "            * \n",
      "          * * \n",
      "        * * * \n",
      "      * * * * \n",
      "    * * * * * \n",
      "  * * * * * * \n",
      "* * * * * * * \n"
     ]
    }
   ],
   "source": [
    "def inverted_rotated_half_pyramid(rows, cols):\n",
    "    for i in range(1, rows+1):\n",
    "        print(\"  \" * (cols-i), end=\"\")\n",
    "        print(\"* \" * i)\n",
    "\n",
    "inverted_rotated_half_pyramid(7,7)\n"
   ]
  },
  {
   "cell_type": "code",
   "execution_count": 4,
   "id": "702c56b8",
   "metadata": {},
   "outputs": [
    {
     "name": "stdout",
     "output_type": "stream",
     "text": [
      "1 2 3 4 5 6 7 8 9 10 \n",
      "1 2 3 4 5 6 7 8 9 \n",
      "1 2 3 4 5 6 7 8 \n",
      "1 2 3 4 5 6 7 \n",
      "1 2 3 4 5 6 \n",
      "1 2 3 4 5 \n",
      "1 2 3 4 \n",
      "1 2 3 \n",
      "1 2 \n",
      "1 \n"
     ]
    }
   ],
   "source": [
    "def inverted_half_pyramid_with_numbers(n):\n",
    "    for i in range(1, n+1):\n",
    "        for j in range(1, n-i+2):\n",
    "            print(j, end=\" \")\n",
    "        print()\n",
    "\n",
    "inverted_half_pyramid_with_numbers(10)\n"
   ]
  },
  {
   "cell_type": "code",
   "execution_count": 5,
   "id": "72ad9b1b",
   "metadata": {},
   "outputs": [
    {
     "name": "stdout",
     "output_type": "stream",
     "text": [
      "1 \n",
      "2 3 \n",
      "4 5 6 \n",
      "7 8 9 10 \n",
      "11 12 13 14 15 \n"
     ]
    }
   ],
   "source": [
    "def floyd_triangle(n):\n",
    "    counter = 1\n",
    "    for i in range(1, n+1):\n",
    "        for j in range(1, i+1):\n",
    "            print(counter, end=\" \")\n",
    "            counter += 1\n",
    "        print()\n",
    "\n",
    "floyd_triangle(5)\n"
   ]
  },
  {
   "cell_type": "code",
   "execution_count": 6,
   "id": "dc6b009a",
   "metadata": {},
   "outputs": [
    {
     "name": "stdout",
     "output_type": "stream",
     "text": [
      "0 \n",
      "1 0 \n",
      "0 1 0 \n",
      "1 0 1 0 \n",
      "0 1 0 1 0 \n"
     ]
    }
   ],
   "source": [
    "def zero_one_triangle(n):\n",
    "    for i in range(n):\n",
    "        for j in range(i+1):\n",
    "            print((i+j) % 2, end=\" \")\n",
    "        print()\n",
    "\n",
    "zero_one_triangle(5)\n"
   ]
  },
  {
   "cell_type": "code",
   "execution_count": 7,
   "id": "bd8b5179",
   "metadata": {},
   "outputs": [
    {
     "name": "stdout",
     "output_type": "stream",
     "text": [
      "*        *\n",
      "**      **\n",
      "***    ***\n",
      "****  ****\n",
      "**********\n",
      "**********\n",
      "****  ****\n",
      "***    ***\n",
      "**      **\n",
      "*        *\n"
     ]
    }
   ],
   "source": [
    "def butterfly_pattern(n):\n",
    "    for i in range(1, n+1):\n",
    "        print(\"*\" * i + \" \" * (2*(n-i)) + \"*\" * i)\n",
    "    for i in range(n, 0, -1):\n",
    "        print(\"*\" * i + \" \" * (2*(n-i)) + \"*\" * i)\n",
    "\n",
    "butterfly_pattern(5)\n"
   ]
  },
  {
   "cell_type": "code",
   "execution_count": 8,
   "id": "07c0291a",
   "metadata": {},
   "outputs": [
    {
     "name": "stdout",
     "output_type": "stream",
     "text": [
      "        * * * * * \n",
      "      * * * * * \n",
      "    * * * * * \n",
      "  * * * * * \n",
      "* * * * * \n"
     ]
    }
   ],
   "source": [
    "def rhombus(n):\n",
    "    for i in range(1, n+1):\n",
    "        print(\"  \" * (n-i) + \"* \" * 5)\n",
    "\n",
    "rhombus(5)\n"
   ]
  },
  {
   "cell_type": "code",
   "execution_count": 9,
   "id": "79ff9a52",
   "metadata": {},
   "outputs": [
    {
     "name": "stdout",
     "output_type": "stream",
     "text": [
      "        * * * * * \n",
      "      *       * \n",
      "    *       * \n",
      "  *       * \n",
      "* * * * * \n"
     ]
    }
   ],
   "source": [
    "def hollow_rhombus(n):\n",
    "    for i in range(1, n+1):\n",
    "        print(\"  \" * (n-i), end=\"\")\n",
    "        for j in range(1, n+1):\n",
    "            if i==1 or i==n or j==1 or j==n:\n",
    "                print(\"*\", end=\" \")\n",
    "            else:\n",
    "                print(\"  \", end=\"\")\n",
    "        print()\n",
    "\n",
    "hollow_rhombus(5)\n"
   ]
  },
  {
   "cell_type": "code",
   "execution_count": 10,
   "id": "eaaa37f2",
   "metadata": {},
   "outputs": [
    {
     "name": "stdout",
     "output_type": "stream",
     "text": [
      "   *\n",
      "  ***\n",
      " *****\n",
      "*******\n",
      "*******\n",
      " *****\n",
      "  ***\n",
      "   *\n"
     ]
    }
   ],
   "source": [
    "def diamond_pattern(n):\n",
    "    for i in range(1, n+1):\n",
    "        print(\" \" * (n-i) + \"*\" * (2*i-1))\n",
    "    for i in range(n, 0, -1):\n",
    "        print(\" \" * (n-i) + \"*\" * (2*i-1))\n",
    "\n",
    "diamond_pattern(4)\n"
   ]
  },
  {
   "cell_type": "code",
   "execution_count": 11,
   "id": "8b0cdb5d",
   "metadata": {},
   "outputs": [
    {
     "name": "stdout",
     "output_type": "stream",
     "text": [
      "* * * * * \n",
      "*     * \n",
      "*   * \n",
      "* * \n",
      "* \n"
     ]
    }
   ],
   "source": [
    "def hollow_inverted_half_pyramid(n):\n",
    "    for i in range(n, 0, -1):\n",
    "        for j in range(i):\n",
    "            if i==n or j==0 or j==i-1:\n",
    "                print(\"*\", end=\" \")\n",
    "            else:\n",
    "                print(\" \", end=\" \")\n",
    "        print()\n",
    "\n",
    "hollow_inverted_half_pyramid(5)\n"
   ]
  },
  {
   "cell_type": "code",
   "execution_count": 12,
   "id": "dcc4bb57",
   "metadata": {},
   "outputs": [
    {
     "name": "stdout",
     "output_type": "stream",
     "text": [
      "      1 \n",
      "     2 2 \n",
      "    3 3 3 \n",
      "   4 4 4 4 \n",
      "  5 5 5 5 5 \n",
      " 6 6 6 6 6 6 \n",
      "7 7 7 7 7 7 7 \n"
     ]
    }
   ],
   "source": [
    "def number_pyramid(n):\n",
    "    for i in range(1, n+1):\n",
    "        print(\" \"*(n-i) + (str(i)+\" \")*i)\n",
    "\n",
    "number_pyramid(7)\n"
   ]
  },
  {
   "cell_type": "code",
   "execution_count": 13,
   "id": "16835e02",
   "metadata": {},
   "outputs": [
    {
     "name": "stdout",
     "output_type": "stream",
     "text": [
      "    1\n",
      "   212\n",
      "  32123\n",
      " 4321234\n",
      "543212345\n"
     ]
    }
   ],
   "source": [
    "def palindromic_pattern(n):\n",
    "    for i in range(1, n+1):\n",
    "        print(\" \"*(n-i), end=\"\")\n",
    "        for j in range(i,0,-1):\n",
    "            print(j, end=\"\")\n",
    "        for k in range(2, i+1):\n",
    "            print(k, end=\"\")\n",
    "        print()\n",
    "\n",
    "palindromic_pattern(5)\n"
   ]
  },
  {
   "cell_type": "code",
   "execution_count": 14,
   "id": "b3d87551",
   "metadata": {},
   "outputs": [
    {
     "name": "stdout",
     "output_type": "stream",
     "text": [
      "1\n",
      "12\n",
      "123\n",
      "1234\n",
      "123\n",
      "12\n",
      "1\n"
     ]
    }
   ],
   "source": [
    "def pattern_printing(n):\n",
    "    for i in range(1, n+1):\n",
    "        for j in range(1, i+1):\n",
    "            print(j, end=\"\")\n",
    "        print()\n",
    "    for i in range(n-1, 0, -1):\n",
    "        for j in range(1, i+1):\n",
    "            print(j, end=\"\")\n",
    "        print()\n",
    "\n",
    "pattern_printing(4)\n"
   ]
  },
  {
   "cell_type": "code",
   "execution_count": null,
   "id": "4527df96",
   "metadata": {},
   "outputs": [],
   "source": []
  }
 ],
 "metadata": {
  "kernelspec": {
   "display_name": "Python 3",
   "language": "python",
   "name": "python3"
  },
  "language_info": {
   "codemirror_mode": {
    "name": "ipython",
    "version": 3
   },
   "file_extension": ".py",
   "mimetype": "text/x-python",
   "name": "python",
   "nbconvert_exporter": "python",
   "pygments_lexer": "ipython3",
   "version": "3.10.8"
  }
 },
 "nbformat": 4,
 "nbformat_minor": 5
}
