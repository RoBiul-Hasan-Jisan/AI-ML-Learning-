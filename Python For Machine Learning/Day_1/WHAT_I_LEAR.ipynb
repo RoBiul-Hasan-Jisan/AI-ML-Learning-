{
 "cells": [
  {
   "cell_type": "markdown",
   "id": "87662d62",
   "metadata": {},
   "source": [
    "Decision Statement"
   ]
  },
  {
   "cell_type": "code",
   "execution_count": 1,
   "id": "46e34191",
   "metadata": {},
   "outputs": [
    {
     "name": "stdout",
     "output_type": "stream",
     "text": [
      "All different\n"
     ]
    }
   ],
   "source": [
    "a = int(input(\"Enter first number: \"))\n",
    "b = int(input(\"Enter second number: \"))\n",
    "c = int(input(\"Enter third number: \"))\n",
    "\n",
    "if a == b == c:\n",
    "    print(\"All equal\")\n",
    "elif a == b or b == c or a == c:\n",
    "    print(\"Two numbers are equal\")\n",
    "else:\n",
    "    print(\"All different\")\n"
   ]
  },
  {
   "cell_type": "markdown",
   "id": "a8e7f71f",
   "metadata": {},
   "source": [
    "While Loop\n",
    "Write a program that takes a number n and prints the reverse of that number using a while loop."
   ]
  },
  {
   "cell_type": "code",
   "execution_count": 3,
   "id": "e5dc0c05",
   "metadata": {},
   "outputs": [
    {
     "name": "stdout",
     "output_type": "stream",
     "text": [
      "Reversed Number: 321\n"
     ]
    }
   ],
   "source": [
    "n = int(input(\"Enter a number: \"))\n",
    "rev = 0\n",
    "while n > 0:\n",
    "    digit = n % 10\n",
    "    rev = rev * 10 + digit\n",
    "    n //= 10\n",
    "print(\"Reversed Number:\", rev)\n"
   ]
  },
  {
   "cell_type": "code",
   "execution_count": null,
   "id": "aad083ab",
   "metadata": {},
   "outputs": [
    {
     "name": "stdout",
     "output_type": "stream",
     "text": [
      "1 2 4 5 8 10 11 13 14 16 19 20 22 23 25 26 28 29 31 32 34 35 38 40 41 43 44 46 49 50 "
     ]
    }
   ],
   "source": [
    "# For Loop with Continue\n",
    "\n",
    "for i in range(1, 51):\n",
    "    if i % 3 == 0 or i % 10 == 7:\n",
    "        continue\n",
    "    print(i, end=\" \")\n"
   ]
  },
  {
   "cell_type": "markdown",
   "id": "266a17f9",
   "metadata": {},
   "source": [
    "Nested If + Break\n",
    "If the list contains a negative number, stop the loop immediately and print \"Negative number found\".\n",
    "Otherwise, print \"All numbers are positive\"."
   ]
  },
  {
   "cell_type": "code",
   "execution_count": 5,
   "id": "3c1f8da4",
   "metadata": {},
   "outputs": [
    {
     "name": "stdout",
     "output_type": "stream",
     "text": [
      "Negative number found: -3\n"
     ]
    }
   ],
   "source": [
    "numbers = [5, 12, 8, -3, 9, 15]\n",
    "\n",
    "for num in numbers:\n",
    "    if num < 0:\n",
    "        print(\"Negative number found:\", num)\n",
    "        break\n",
    "else:\n",
    "    # Runs only if loop finishes normally (no break)\n",
    "    print(\"All numbers are positive\")\n"
   ]
  },
  {
   "cell_type": "markdown",
   "id": "d955a705",
   "metadata": {},
   "source": [
    "Prime Numbers with Continue \n",
    "\n",
    "Write a program to print all prime numbers between 2 and 50 using loops and continue."
   ]
  },
  {
   "cell_type": "code",
   "execution_count": 6,
   "id": "b248c001",
   "metadata": {},
   "outputs": [
    {
     "name": "stdout",
     "output_type": "stream",
     "text": [
      "2 3 5 7 11 13 17 19 23 29 31 37 41 43 47 "
     ]
    }
   ],
   "source": [
    "for num in range(2, 51):\n",
    "    is_prime = True\n",
    "    for i in range(2, num):\n",
    "        if num % i == 0:\n",
    "            is_prime = False\n",
    "            break\n",
    "    if not is_prime:\n",
    "        continue\n",
    "    print(num, end=\" \")\n"
   ]
  }
 ],
 "metadata": {
  "kernelspec": {
   "display_name": "Python 3",
   "language": "python",
   "name": "python3"
  },
  "language_info": {
   "codemirror_mode": {
    "name": "ipython",
    "version": 3
   },
   "file_extension": ".py",
   "mimetype": "text/x-python",
   "name": "python",
   "nbconvert_exporter": "python",
   "pygments_lexer": "ipython3",
   "version": "3.10.8"
  }
 },
 "nbformat": 4,
 "nbformat_minor": 5
}
