{
 "cells": [
  {
   "cell_type": "code",
   "execution_count": 1,
   "id": "8df69702",
   "metadata": {},
   "outputs": [
    {
     "name": "stdout",
     "output_type": "stream",
     "text": [
      "Area of the circle is =  50.27\n",
      "Circumference of the circle is =  25.13\n"
     ]
    }
   ],
   "source": [
    "from math import pi\n",
    "\n",
    "radius = eval(input(\"Enter radius of a circle: \"))\n",
    "\n",
    "if radius > 0:\n",
    "    area = pi * radius * radius\n",
    "    print(\"Area of the circle is = \", format(area, \".2f\"))\n",
    "\n",
    "    circumference = 2 * pi * radius\n",
    "    print(\"Circumference of the circle is = \", format(circumference, \".2f\"))\n",
    "else:\n",
    "    print(\"Please give right input\")\n"
   ]
  },
  {
   "cell_type": "code",
   "execution_count": 2,
   "id": "61e36db1",
   "metadata": {},
   "outputs": [
    {
     "name": "stdout",
     "output_type": "stream",
     "text": [
      "Salary Receipt of Employee\n",
      " Total Sales = 45.0\n",
      " Basic = 4000\n",
      " HRA = 400.0\n",
      " DA = 4400.0\n",
      " Incentive = 1.8\n",
      " Bonus = 500\n",
      " Conveyance = 500\n",
      " Gross Salary = 9801.8\n"
     ]
    }
   ],
   "source": [
    "sales = float(input(\"Enter total sales of the month: \"))\n",
    "basic = 4000\n",
    "conveyance = 500\n",
    "da = 110 * basic / 100\n",
    "\n",
    "if sales >= 100000:\n",
    "    hra = 20 * basic / 100\n",
    "    incentive = sales * 10 / 100\n",
    "    bonus = 1000\n",
    "else:\n",
    "    hra = 10 * basic / 100\n",
    "    incentive = sales * 4 / 100\n",
    "    bonus = 500\n",
    "\n",
    "salary = basic + hra + incentive + bonus + conveyance + da\n",
    "\n",
    "print(\"Salary Receipt of Employee\")\n",
    "print(\" Total Sales =\", sales)\n",
    "print(\" Basic =\", basic)\n",
    "print(\" HRA =\", hra)\n",
    "print(\" DA =\", da)\n",
    "print(\" Incentive =\", incentive)\n",
    "print(\" Bonus =\", bonus)\n",
    "print(\" Conveyance =\", conveyance)\n",
    "print(\" Gross Salary =\", salary)\n"
   ]
  },
  {
   "cell_type": "code",
   "execution_count": 3,
   "id": "bd9344a0",
   "metadata": {},
   "outputs": [
    {
     "name": "stdout",
     "output_type": "stream",
     "text": [
      "Which operation do you want to perform?\n",
      "1) Addition\n",
      "2) Subtraction\n",
      "3) Multiplication\n",
      "4) Division\n",
      "Multiplication: 32.0\n"
     ]
    }
   ],
   "source": [
    "first_number = float(input(\"Enter the first number: \"))\n",
    "second_number = float(input(\"Enter the second number: \"))\n",
    "\n",
    "print(\"Which operation do you want to perform?\")\n",
    "print(\"1) Addition\")\n",
    "print(\"2) Subtraction\")\n",
    "print(\"3) Multiplication\")\n",
    "print(\"4) Division\")\n",
    "\n",
    "choice = int(input(\"Enter your choice: \"))\n",
    "\n",
    "if choice == 1:\n",
    "    print(f\"Addition: {first_number + second_number}\")\n",
    "elif choice == 2:\n",
    "    print(f\"Subtraction: {first_number - second_number}\")\n",
    "elif choice == 3:\n",
    "    print(f\"Multiplication: {first_number * second_number}\")\n",
    "elif choice == 4:\n",
    "    print(f\"Division: {first_number / second_number}\")\n",
    "else:\n",
    "    print(\"Invalid choice!\")\n"
   ]
  },
  {
   "cell_type": "code",
   "execution_count": 6,
   "id": "9b519a56",
   "metadata": {},
   "outputs": [
    {
     "name": "stdout",
     "output_type": "stream",
     "text": [
      "You entered a character\n"
     ]
    }
   ],
   "source": [
    "char = input(\"Press any key: \")\n",
    "\n",
    "if char.isalpha():\n",
    "    print(\"You entered a character\")\n",
    "elif char.isdigit():\n",
    "    print(\"You entered a digit\")\n",
    "elif char.isspace():\n",
    "    print(\"You entered a space\")\n",
    "elif char.isdecimal():\n",
    "    print(\"You entered a decimal\")\n"
   ]
  },
  {
   "cell_type": "code",
   "execution_count": 9,
   "id": "85d53186",
   "metadata": {},
   "outputs": [
    {
     "name": "stdout",
     "output_type": "stream",
     "text": [
      "You entered a space\n"
     ]
    }
   ],
   "source": [
    "char = input(\"Press any key: \")\n",
    "\n",
    "if char.isalpha():\n",
    "    print(\"You entered a character\")\n",
    "elif char.isdigit():\n",
    "    print(\"You entered a digit\")\n",
    "elif char.isspace():\n",
    "    print(\"You entered a space\")\n",
    "elif char.isdecimal():\n",
    "    print(\"You entered a decimal\")\n"
   ]
  },
  {
   "cell_type": "code",
   "execution_count": 8,
   "id": "7a5b8756",
   "metadata": {},
   "outputs": [
    {
     "name": "stdout",
     "output_type": "stream",
     "text": [
      "The greatest number is: 8\n"
     ]
    }
   ],
   "source": [
    "first_number = eval(input(\"Enter the first number: \"))\n",
    "second_number = eval(input(\"Enter the second number: \"))\n",
    "third_number = eval(input(\"Enter the third number: \"))\n",
    "\n",
    "if first_number >= second_number and first_number >= third_number:\n",
    "    print(\"The greatest number is:\", first_number)\n",
    "elif second_number >= first_number and second_number >= third_number:\n",
    "    print(\"The greatest number is:\", second_number)\n",
    "else:\n",
    "    print(\"The greatest number is:\", third_number)\n"
   ]
  }
 ],
 "metadata": {
  "kernelspec": {
   "display_name": "Python 3",
   "language": "python",
   "name": "python3"
  },
  "language_info": {
   "codemirror_mode": {
    "name": "ipython",
    "version": 3
   },
   "file_extension": ".py",
   "mimetype": "text/x-python",
   "name": "python",
   "nbconvert_exporter": "python",
   "pygments_lexer": "ipython3",
   "version": "3.10.8"
  }
 },
 "nbformat": 4,
 "nbformat_minor": 5
}
