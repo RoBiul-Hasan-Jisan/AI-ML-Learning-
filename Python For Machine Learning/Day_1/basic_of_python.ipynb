{
 "cells": [
  {
   "cell_type": "code",
   "execution_count": 1,
   "id": "371bdcc2",
   "metadata": {},
   "outputs": [
    {
     "name": "stdout",
     "output_type": "stream",
     "text": [
      "Hello\n",
      "World\n",
      "Good Bye\n"
     ]
    }
   ],
   "source": [
    "print(\"Hello\") \n",
    "print(\"World\") \n",
    "print(\"Good Bye\") "
   ]
  },
  {
   "cell_type": "code",
   "execution_count": 2,
   "id": "53358229",
   "metadata": {},
   "outputs": [
    {
     "name": "stdout",
     "output_type": "stream",
     "text": [
      "Robiul 22 5.4 True\n"
     ]
    }
   ],
   "source": [
    "name = \"Robiul\"\n",
    "age = 22\n",
    "height = 5.4\n",
    "is_student = True\n",
    "\n",
    "\n",
    "print (name,age,height,is_student)"
   ]
  },
  {
   "cell_type": "code",
   "execution_count": null,
   "id": "22067fda",
   "metadata": {},
   "outputs": [
    {
     "name": "stdout",
     "output_type": "stream",
     "text": [
      "Chittagong 22 Bangladesh True\n"
     ]
    }
   ],
   "source": [
    "#Practice: Create 4 variables — your country, your city, your age, and whether you like coding.\n",
    "your_country = \"Bangladesh\"\n",
    "your_city = \"Chittagong\"\n",
    "your_age = 22 \n",
    "Like_codeing = False\n",
    "print(your_city, your_age,your_country,is_student)\n",
    "\n"
   ]
  },
  {
   "cell_type": "code",
   "execution_count": 4,
   "id": "02e56ae2",
   "metadata": {},
   "outputs": [
    {
     "name": "stdout",
     "output_type": "stream",
     "text": [
      "hello jisan\n"
     ]
    }
   ],
   "source": [
    "#Basic Input\n",
    "name = input(\"Enter Your name : \")\n",
    "print(\"hello\",name)\n"
   ]
  },
  {
   "cell_type": "code",
   "execution_count": 7,
   "id": "12a086de",
   "metadata": {},
   "outputs": [
    {
     "name": "stdout",
     "output_type": "stream",
     "text": [
      "9\n"
     ]
    }
   ],
   "source": [
    "# Ask the user for two numbers and print their sum.\n",
    "#num1 =input(\"Enter Your A number: \")\n",
    "#num2 =input(\"Enter Your b number: \")\n",
    "#print (num1 + num2) # This is concatenating\n",
    "\n",
    "\n",
    "num1 =int(input(\"Enter Your A number: \"))\n",
    "num2 =int(input(\"Enter Your b number: \"))\n",
    "print (num1 + num2) # This is concatenating\n",
    "\n",
    "\n",
    "\n",
    "\n",
    "\n"
   ]
  },
  {
   "cell_type": "code",
   "execution_count": null,
   "id": "b567335f",
   "metadata": {},
   "outputs": [
    {
     "name": "stdout",
     "output_type": "stream",
     "text": [
      "36\n",
      "28\n",
      "128\n",
      "8.0\n",
      "0.125\n",
      "1048576\n",
      "8\n",
      "0\n"
     ]
    }
   ],
   "source": [
    "#Basic Arithmetic Operators\n",
    "a = 32\n",
    "b = 4\n",
    "print (a + b) # addition\n",
    "print (a - b) # substraction\n",
    "print (a * b) # multipication\n",
    "print (a / b) # divion\n",
    "print (b / a) # divion\n",
    "print (a ** b) # power\n",
    "print (a // b) # floor division\n",
    "print (a % b) #modolus\n"
   ]
  },
  {
   "cell_type": "code",
   "execution_count": 9,
   "id": "08f62387",
   "metadata": {},
   "outputs": [
    {
     "name": "stdout",
     "output_type": "stream",
     "text": [
      "Your Answer :  9.4248\n"
     ]
    }
   ],
   "source": [
    "#Calculate the area of a circle (use radius as input, formula: π × r²).\n",
    "\n",
    "\n",
    "area = float(input (\"Enter your radius : \"))\n",
    "\n",
    "print (\"Your Answer : \",3.1416 * area)"
   ]
  },
  {
   "cell_type": "code",
   "execution_count": null,
   "id": "9cf70dab",
   "metadata": {},
   "outputs": [
    {
     "data": {
      "text/plain": [
       "30"
      ]
     },
     "execution_count": 12,
     "metadata": {},
     "output_type": "execute_result"
    }
   ],
   "source": [
    "# swap number \n",
    "a = 10\n",
    "b = 30\n",
    "temp = a\n",
    "a = b\n",
    "b = temp\n"
   ]
  },
  {
   "cell_type": "code",
   "execution_count": 13,
   "id": "4d386af1",
   "metadata": {},
   "outputs": [
    {
     "data": {
      "text/plain": [
       "30"
      ]
     },
     "execution_count": 13,
     "metadata": {},
     "output_type": "execute_result"
    }
   ],
   "source": [
    "a"
   ]
  },
  {
   "cell_type": "code",
   "execution_count": 14,
   "id": "0344338e",
   "metadata": {},
   "outputs": [
    {
     "data": {
      "text/plain": [
       "10"
      ]
     },
     "execution_count": 14,
     "metadata": {},
     "output_type": "execute_result"
    }
   ],
   "source": [
    "b"
   ]
  },
  {
   "cell_type": "code",
   "execution_count": 15,
   "id": "64a3778b",
   "metadata": {},
   "outputs": [],
   "source": [
    "a = 30 \n",
    "b = 20\n",
    "a,b = b,a"
   ]
  },
  {
   "cell_type": "code",
   "execution_count": 16,
   "id": "f567d817",
   "metadata": {},
   "outputs": [
    {
     "data": {
      "text/plain": [
       "20"
      ]
     },
     "execution_count": 16,
     "metadata": {},
     "output_type": "execute_result"
    }
   ],
   "source": [
    "a"
   ]
  },
  {
   "cell_type": "code",
   "execution_count": 17,
   "id": "2cae001f",
   "metadata": {},
   "outputs": [
    {
     "data": {
      "text/plain": [
       "30"
      ]
     },
     "execution_count": 17,
     "metadata": {},
     "output_type": "execute_result"
    }
   ],
   "source": [
    "b"
   ]
  },
  {
   "cell_type": "code",
   "execution_count": 18,
   "id": "c1a7cc7b",
   "metadata": {},
   "outputs": [
    {
     "name": "stdout",
     "output_type": "stream",
     "text": [
      "11\n"
     ]
    }
   ],
   "source": [
    "import math\n",
    "print(math.ceil(10.23))"
   ]
  },
  {
   "cell_type": "code",
   "execution_count": 19,
   "id": "27e60506",
   "metadata": {},
   "outputs": [
    {
     "name": "stdout",
     "output_type": "stream",
     "text": [
      "10\n"
     ]
    }
   ],
   "source": [
    "print(math.floor(10.23)) "
   ]
  },
  {
   "cell_type": "code",
   "execution_count": 21,
   "id": "9a2bb1c8",
   "metadata": {},
   "outputs": [
    {
     "name": "stdout",
     "output_type": "stream",
     "text": [
      "27722.51006805505\n"
     ]
    }
   ],
   "source": [
    "print(math.exp(10.23))\n"
   ]
  },
  {
   "cell_type": "code",
   "execution_count": 20,
   "id": "5f523128",
   "metadata": {},
   "outputs": [
    {
     "name": "stdout",
     "output_type": "stream",
     "text": [
      "0.9932517730102834\n"
     ]
    }
   ],
   "source": [
    "print(math.log(2.7))\n"
   ]
  },
  {
   "cell_type": "code",
   "execution_count": 22,
   "id": "d89d9be5",
   "metadata": {},
   "outputs": [
    {
     "name": "stdout",
     "output_type": "stream",
     "text": [
      "1.0\n"
     ]
    }
   ],
   "source": [
    "print(math.log(10, 10)) "
   ]
  },
  {
   "cell_type": "code",
   "execution_count": 23,
   "id": "f1244762",
   "metadata": {},
   "outputs": [
    {
     "name": "stdout",
     "output_type": "stream",
     "text": [
      "4.0\n"
     ]
    }
   ],
   "source": [
    "print(math.sqrt(16))\n"
   ]
  },
  {
   "cell_type": "code",
   "execution_count": 24,
   "id": "915d23af",
   "metadata": {},
   "outputs": [
    {
     "data": {
      "text/plain": [
       "102"
      ]
     },
     "execution_count": 24,
     "metadata": {},
     "output_type": "execute_result"
    }
   ],
   "source": [
    "min(102,220,130)"
   ]
  },
  {
   "cell_type": "code",
   "execution_count": null,
   "id": "55571ecf",
   "metadata": {},
   "outputs": [
    {
     "data": {
      "text/plain": [
       "-1"
      ]
     },
     "execution_count": 25,
     "metadata": {},
     "output_type": "execute_result"
    }
   ],
   "source": [
    "max(-1,-4,-10) "
   ]
  }
 ],
 "metadata": {
  "kernelspec": {
   "display_name": "Python 3",
   "language": "python",
   "name": "python3"
  },
  "language_info": {
   "codemirror_mode": {
    "name": "ipython",
    "version": 3
   },
   "file_extension": ".py",
   "mimetype": "text/x-python",
   "name": "python",
   "nbconvert_exporter": "python",
   "pygments_lexer": "ipython3",
   "version": "3.10.8"
  }
 },
 "nbformat": 4,
 "nbformat_minor": 5
}
