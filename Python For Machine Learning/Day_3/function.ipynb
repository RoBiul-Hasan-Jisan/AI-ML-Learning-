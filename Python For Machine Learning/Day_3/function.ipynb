{
 "cells": [
  {
   "cell_type": "code",
   "execution_count": 1,
   "id": "a507e84c",
   "metadata": {},
   "outputs": [
    {
     "name": "stdout",
     "output_type": "stream",
     "text": [
      "Hello, World!\n"
     ]
    }
   ],
   "source": [
    "def greet():\n",
    "    print(\"Hello, World!\")\n",
    "greet()\n"
   ]
  },
  {
   "cell_type": "code",
   "execution_count": 2,
   "id": "7d2fefce",
   "metadata": {},
   "outputs": [
    {
     "data": {
      "text/plain": [
       "8"
      ]
     },
     "execution_count": 2,
     "metadata": {},
     "output_type": "execute_result"
    }
   ],
   "source": [
    "def add(a, b):\n",
    "    return a + b\n",
    "add(5, 3)\n"
   ]
  },
  {
   "cell_type": "code",
   "execution_count": 3,
   "id": "fe7da5b8",
   "metadata": {},
   "outputs": [
    {
     "data": {
      "text/plain": [
       "'Jisan is 25 years old.'"
      ]
     },
     "execution_count": 3,
     "metadata": {},
     "output_type": "execute_result"
    }
   ],
   "source": [
    "def describe(name, age):\n",
    "    return f\"{name} is {age} years old.\"\n",
    "describe(age=25, name=\"Jisan\")\n"
   ]
  },
  {
   "cell_type": "code",
   "execution_count": 4,
   "id": "1737fd8e",
   "metadata": {},
   "outputs": [
    {
     "data": {
      "text/plain": [
       "125"
      ]
     },
     "execution_count": 4,
     "metadata": {},
     "output_type": "execute_result"
    }
   ],
   "source": [
    "def power(x, n=2):\n",
    "    return x ** n\n",
    "power(5)\n",
    "power(5, 3)\n"
   ]
  },
  {
   "cell_type": "code",
   "execution_count": 5,
   "id": "648a799c",
   "metadata": {},
   "outputs": [
    {
     "data": {
      "text/plain": [
       "10"
      ]
     },
     "execution_count": 5,
     "metadata": {},
     "output_type": "execute_result"
    }
   ],
   "source": [
    "def sum_all(*nums):\n",
    "    return sum(nums)\n",
    "sum_all(1,2,3,4)\n"
   ]
  },
  {
   "cell_type": "code",
   "execution_count": 6,
   "id": "5c7fe1d3",
   "metadata": {},
   "outputs": [
    {
     "name": "stdout",
     "output_type": "stream",
     "text": [
      "name: Jisan\n",
      "age: 20\n",
      "city: Dhaka\n"
     ]
    }
   ],
   "source": [
    "def person_info(**info):\n",
    "    for k,v in info.items():\n",
    "        print(f\"{k}: {v}\")\n",
    "person_info(name=\"Jisan\", age=20, city=\"Dhaka\")\n"
   ]
  },
  {
   "cell_type": "code",
   "execution_count": 7,
   "id": "2b480007",
   "metadata": {},
   "outputs": [],
   "source": [
    "def operations(x, y):\n",
    "    return x+y, x-y, x*y\n",
    "sum_, diff, prod = operations(10,5)\n"
   ]
  },
  {
   "cell_type": "code",
   "execution_count": 8,
   "id": "d945706d",
   "metadata": {},
   "outputs": [
    {
     "name": "stdout",
     "output_type": "stream",
     "text": [
      "5\n",
      "10\n"
     ]
    }
   ],
   "source": [
    "x = 10\n",
    "def change():\n",
    "    x = 5  # local\n",
    "    return x\n",
    "print(change())  # 5\n",
    "print(x)         # 10\n"
   ]
  },
  {
   "cell_type": "code",
   "execution_count": 9,
   "id": "d67fee38",
   "metadata": {},
   "outputs": [
    {
     "name": "stdout",
     "output_type": "stream",
     "text": [
      "25\n"
     ]
    }
   ],
   "source": [
    "square = lambda x: x**2\n",
    "print(square(5))\n"
   ]
  },
  {
   "cell_type": "code",
   "execution_count": 10,
   "id": "784eb649",
   "metadata": {},
   "outputs": [
    {
     "data": {
      "text/plain": [
       "10"
      ]
     },
     "execution_count": 10,
     "metadata": {},
     "output_type": "execute_result"
    }
   ],
   "source": [
    "def apply(func, value):\n",
    "    return func(value)\n",
    "\n",
    "def double(x):\n",
    "    return x*2\n",
    "\n",
    "apply(double, 5)\n"
   ]
  },
  {
   "cell_type": "code",
   "execution_count": 11,
   "id": "a156f539",
   "metadata": {},
   "outputs": [
    {
     "data": {
      "text/plain": [
       "15"
      ]
     },
     "execution_count": 11,
     "metadata": {},
     "output_type": "execute_result"
    }
   ],
   "source": [
    "nums = [1,2,3,4,5]\n",
    "list(map(lambda x: x*2, nums))\n",
    "list(filter(lambda x: x%2==0, nums))\n",
    "from functools import reduce\n",
    "reduce(lambda x,y: x+y, nums)\n"
   ]
  },
  {
   "cell_type": "code",
   "execution_count": 12,
   "id": "37c1fda7",
   "metadata": {},
   "outputs": [
    {
     "data": {
      "text/plain": [
       "120"
      ]
     },
     "execution_count": 12,
     "metadata": {},
     "output_type": "execute_result"
    }
   ],
   "source": [
    "def factorial(n):\n",
    "    if n==0:\n",
    "        return 1\n",
    "    return n * factorial(n-1)\n",
    "factorial(5)\n"
   ]
  },
  {
   "cell_type": "code",
   "execution_count": 13,
   "id": "72dd97c9",
   "metadata": {},
   "outputs": [
    {
     "name": "stdout",
     "output_type": "stream",
     "text": [
      "Before function\n",
      "Hello!\n",
      "After function\n"
     ]
    }
   ],
   "source": [
    "def decorator(func):\n",
    "    def wrapper():\n",
    "        print(\"Before function\")\n",
    "        func()\n",
    "        print(\"After function\")\n",
    "    return wrapper\n",
    "\n",
    "@decorator\n",
    "def say_hello():\n",
    "    print(\"Hello!\")\n",
    "say_hello()\n"
   ]
  },
  {
   "cell_type": "code",
   "execution_count": 14,
   "id": "2d231ef1",
   "metadata": {},
   "outputs": [],
   "source": [
    "def find_int(lst):\n",
    "    \"\"\"This is my function to extract num data from list\"\"\"\n",
    "    li = []\n",
    "    \n",
    "    for i in lst:\n",
    "        if type(i) == list:\n",
    "            for j in i:\n",
    "                if type(j) == int or type(j) == float:\n",
    "                    li.append(j)\n",
    "        else:\n",
    "            if type(i) == int or type(i) == float:\n",
    "                    li.append(i)\n",
    "    return li "
   ]
  }
 ],
 "metadata": {
  "kernelspec": {
   "display_name": "Python 3",
   "language": "python",
   "name": "python3"
  },
  "language_info": {
   "codemirror_mode": {
    "name": "ipython",
    "version": 3
   },
   "file_extension": ".py",
   "mimetype": "text/x-python",
   "name": "python",
   "nbconvert_exporter": "python",
   "pygments_lexer": "ipython3",
   "version": "3.10.8"
  }
 },
 "nbformat": 4,
 "nbformat_minor": 5
}
