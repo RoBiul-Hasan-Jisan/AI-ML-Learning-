{
 "cells": [
  {
   "cell_type": "markdown",
   "id": "cd90eb6d",
   "metadata": {},
   "source": [
    "lambda arguments: expression\n"
   ]
  },
  {
   "cell_type": "code",
   "execution_count": 1,
   "id": "430b1254",
   "metadata": {},
   "outputs": [
    {
     "name": "stdout",
     "output_type": "stream",
     "text": [
      "25\n"
     ]
    }
   ],
   "source": [
    "square = lambda x: x**2\n",
    "print(square(5))  # Output: 25\n"
   ]
  },
  {
   "cell_type": "markdown",
   "id": "2d364e30",
   "metadata": {},
   "source": [
    "Regular Function:"
   ]
  },
  {
   "cell_type": "code",
   "execution_count": 2,
   "id": "b425eb7d",
   "metadata": {},
   "outputs": [
    {
     "name": "stdout",
     "output_type": "stream",
     "text": [
      "7\n"
     ]
    }
   ],
   "source": [
    "def add(a, b):\n",
    "    return a + b\n",
    "print(add(3, 4))  # 7\n"
   ]
  },
  {
   "cell_type": "markdown",
   "id": "a71a8f51",
   "metadata": {},
   "source": [
    "Lambda Function:"
   ]
  },
  {
   "cell_type": "code",
   "execution_count": 3,
   "id": "24030b82",
   "metadata": {},
   "outputs": [
    {
     "name": "stdout",
     "output_type": "stream",
     "text": [
      "7\n"
     ]
    }
   ],
   "source": [
    "add = lambda a, b: a + b\n",
    "print(add(3, 4))  # 7\n"
   ]
  },
  {
   "cell_type": "code",
   "execution_count": 4,
   "id": "253788ab",
   "metadata": {},
   "outputs": [
    {
     "name": "stdout",
     "output_type": "stream",
     "text": [
      "24\n"
     ]
    }
   ],
   "source": [
    "multiply = lambda a, b, c: a * b * c\n",
    "print(multiply(2, 3, 4))  # 24\n"
   ]
  },
  {
   "cell_type": "code",
   "execution_count": 5,
   "id": "15eafbbd",
   "metadata": {},
   "outputs": [
    {
     "name": "stdout",
     "output_type": "stream",
     "text": [
      "20\n"
     ]
    }
   ],
   "source": [
    "max_num = lambda a, b: a if a > b else b\n",
    "print(max_num(10, 20))  # 20\n"
   ]
  },
  {
   "cell_type": "code",
   "execution_count": 6,
   "id": "2dfa51d7",
   "metadata": {},
   "outputs": [
    {
     "name": "stdout",
     "output_type": "stream",
     "text": [
      "[1, 4, 9, 16]\n"
     ]
    }
   ],
   "source": [
    "nums = [1, 2, 3, 4]\n",
    "squared = list(map(lambda x: x**2, nums))\n",
    "print(squared)  # [1, 4, 9, 16]\n"
   ]
  },
  {
   "cell_type": "code",
   "execution_count": 7,
   "id": "c70985e3",
   "metadata": {},
   "outputs": [
    {
     "name": "stdout",
     "output_type": "stream",
     "text": [
      "[2, 4, 6]\n"
     ]
    }
   ],
   "source": [
    "nums = [1, 2, 3, 4, 5, 6]\n",
    "evens = list(filter(lambda x: x % 2 == 0, nums))\n",
    "print(evens)  # [2, 4, 6]\n"
   ]
  },
  {
   "cell_type": "code",
   "execution_count": 8,
   "id": "6cdef8b4",
   "metadata": {},
   "outputs": [
    {
     "name": "stdout",
     "output_type": "stream",
     "text": [
      "24\n"
     ]
    }
   ],
   "source": [
    "from functools import reduce\n",
    "nums = [1, 2, 3, 4]\n",
    "product = reduce(lambda x, y: x * y, nums)\n",
    "print(product)  # 24\n"
   ]
  },
  {
   "cell_type": "code",
   "execution_count": 9,
   "id": "1e22a045",
   "metadata": {},
   "outputs": [
    {
     "name": "stdout",
     "output_type": "stream",
     "text": [
      "25\n",
      "125\n"
     ]
    }
   ],
   "source": [
    "def power_func(n):\n",
    "    return lambda x: x**n\n",
    "\n",
    "square = power_func(2)\n",
    "cube = power_func(3)\n",
    "\n",
    "print(square(5))  # 25\n",
    "print(cube(5))    # 125\n"
   ]
  },
  {
   "cell_type": "code",
   "execution_count": 10,
   "id": "9c871483",
   "metadata": {},
   "outputs": [
    {
     "name": "stdout",
     "output_type": "stream",
     "text": [
      "[('Rahim', 80), ('Jisan', 90), ('Kamal', 95)]\n"
     ]
    }
   ],
   "source": [
    "students = [(\"Jisan\", 90), (\"Rahim\", 80), (\"Kamal\", 95)]\n",
    "students.sort(key=lambda x: x[1])  # Sort by marks\n",
    "print(students)  # [('Rahim', 80), ('Jisan', 90), ('Kamal', 95)]\n"
   ]
  }
 ],
 "metadata": {
  "kernelspec": {
   "display_name": "Python 3",
   "language": "python",
   "name": "python3"
  },
  "language_info": {
   "codemirror_mode": {
    "name": "ipython",
    "version": 3
   },
   "file_extension": ".py",
   "mimetype": "text/x-python",
   "name": "python",
   "nbconvert_exporter": "python",
   "pygments_lexer": "ipython3",
   "version": "3.10.8"
  }
 },
 "nbformat": 4,
 "nbformat_minor": 5
}
