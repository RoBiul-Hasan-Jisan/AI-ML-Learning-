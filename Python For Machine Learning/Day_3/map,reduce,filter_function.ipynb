{
 "cells": [
  {
   "cell_type": "markdown",
   "id": "c601a13f",
   "metadata": {},
   "source": [
    " map() Function\n",
    "Definition\n",
    "\n",
    "map() applies a function to every item in an iterable (list, tuple, etc.) and returns a map object.\n",
    "\n",
    "Syntax:\n",
    "\n",
    "map(function, iterable)"
   ]
  },
  {
   "cell_type": "code",
   "execution_count": 1,
   "id": "5c05555b",
   "metadata": {},
   "outputs": [
    {
     "name": "stdout",
     "output_type": "stream",
     "text": [
      "[1, 4, 9, 16]\n"
     ]
    }
   ],
   "source": [
    "nums = [1, 2, 3, 4]\n",
    "squared = list(map(lambda x: x**2, nums))\n",
    "print(squared)  # [1, 4, 9, 16]\n"
   ]
  },
  {
   "cell_type": "code",
   "execution_count": 2,
   "id": "b54a44ec",
   "metadata": {},
   "outputs": [
    {
     "name": "stdout",
     "output_type": "stream",
     "text": [
      "[2, 4, 6, 8]\n"
     ]
    }
   ],
   "source": [
    "def double(x):\n",
    "    return x*2\n",
    "\n",
    "doubles = list(map(double, nums))\n",
    "print(doubles)  # [2, 4, 6, 8]\n"
   ]
  },
  {
   "cell_type": "code",
   "execution_count": 3,
   "id": "a60a7b66",
   "metadata": {},
   "outputs": [
    {
     "name": "stdout",
     "output_type": "stream",
     "text": [
      "[5, 7, 9]\n"
     ]
    }
   ],
   "source": [
    "a = [1,2,3]\n",
    "b = [4,5,6]\n",
    "summed = list(map(lambda x, y: x+y, a, b))\n",
    "print(summed)  # [5, 7, 9]\n"
   ]
  },
  {
   "cell_type": "markdown",
   "id": "b3d31830",
   "metadata": {},
   "source": [
    " filter() Function\n",
    "Definition\n",
    "\n",
    "filter() selects items from an iterable that satisfy a condition and returns a filter object.\n",
    "\n",
    "Syntax:\n",
    "\n",
    "filter(function, iterable)"
   ]
  },
  {
   "cell_type": "code",
   "execution_count": 6,
   "id": "2fb59d56",
   "metadata": {},
   "outputs": [
    {
     "name": "stdout",
     "output_type": "stream",
     "text": [
      "[2, 4, 6]\n"
     ]
    }
   ],
   "source": [
    "nums = [1, 2, 3, 4, 5, 6]\n",
    "evens = list(filter(lambda x: x % 2 == 0, nums))\n",
    "print(evens)  # [2, 4, 6]\n"
   ]
  },
  {
   "cell_type": "code",
   "execution_count": 5,
   "id": "deac26b4",
   "metadata": {},
   "outputs": [
    {
     "name": "stdout",
     "output_type": "stream",
     "text": [
      "[1, 2]\n"
     ]
    }
   ],
   "source": [
    "def is_positive(x):\n",
    "    return x > 0\n",
    "\n",
    "nums = [-2, -1, 0, 1, 2]\n",
    "positive_nums = list(filter(is_positive, nums))\n",
    "print(positive_nums)  # [1, 2]\n"
   ]
  },
  {
   "cell_type": "markdown",
   "id": "ece6ac5e",
   "metadata": {},
   "source": [
    "reduce() Function\n",
    "Definition\n",
    "\n",
    "reduce() reduces an iterable to a single value by applying a function cumulatively.\n",
    "\n",
    "It’s in functools.\n",
    "\n",
    "Syntax:\n",
    "\n",
    "from functools import reduce\n",
    "reduce(function, iterable)\n"
   ]
  },
  {
   "cell_type": "code",
   "execution_count": 7,
   "id": "dc5172bb",
   "metadata": {},
   "outputs": [
    {
     "name": "stdout",
     "output_type": "stream",
     "text": [
      "24\n"
     ]
    }
   ],
   "source": [
    "from functools import reduce\n",
    "nums = [1, 2, 3, 4]\n",
    "product = reduce(lambda x, y: x*y, nums)\n",
    "print(product)  # 24\n"
   ]
  },
  {
   "cell_type": "code",
   "execution_count": 8,
   "id": "7a7bce99",
   "metadata": {},
   "outputs": [
    {
     "name": "stdout",
     "output_type": "stream",
     "text": [
      "10\n"
     ]
    }
   ],
   "source": [
    "total = reduce(lambda x, y: x+y, nums)\n",
    "print(total)  # 10\n"
   ]
  },
  {
   "cell_type": "markdown",
   "id": "8e0faf94",
   "metadata": {},
   "source": [
    "\n",
    "Combining map(), filter(), reduce()\n",
    "\n",
    " Sum of squares of even numbers"
   ]
  },
  {
   "cell_type": "code",
   "execution_count": 9,
   "id": "9483dd2e",
   "metadata": {},
   "outputs": [
    {
     "name": "stdout",
     "output_type": "stream",
     "text": [
      "220\n"
     ]
    }
   ],
   "source": [
    "nums = [1,2,3,4,5,6,7,8,9,10]\n",
    "result = reduce(lambda x, y: x+y, map(lambda x: x**2, filter(lambda x: x%2==0, nums)))\n",
    "print(result)  # 220\n"
   ]
  },
  {
   "cell_type": "markdown",
   "id": "67cd69f3",
   "metadata": {},
   "source": [
    "Product of all positive numbers\n"
   ]
  },
  {
   "cell_type": "code",
   "execution_count": 10,
   "id": "2cbd2b1f",
   "metadata": {},
   "outputs": [
    {
     "name": "stdout",
     "output_type": "stream",
     "text": [
      "60\n"
     ]
    }
   ],
   "source": [
    "nums = [-2, 3, 5, -1, 4]\n",
    "product_positive = reduce(lambda x, y: x*y, filter(lambda x: x>0, nums))\n",
    "print(product_positive)  # 60\n"
   ]
  },
  {
   "cell_type": "markdown",
   "id": "b0cce3a1",
   "metadata": {},
   "source": [
    "Capitalize long words"
   ]
  },
  {
   "cell_type": "code",
   "execution_count": 11,
   "id": "9a426cd4",
   "metadata": {},
   "outputs": [
    {
     "name": "stdout",
     "output_type": "stream",
     "text": [
      "['APPLE', 'BANANA']\n"
     ]
    }
   ],
   "source": [
    "words = [\"apple\", \"dog\", \"banana\", \"cat\"]\n",
    "long_words = list(map(lambda x: x.upper(), filter(lambda w: len(w)>3, words)))\n",
    "print(long_words)  # ['APPLE', 'BANANA']\n"
   ]
  },
  {
   "cell_type": "markdown",
   "id": "f46b6ef7",
   "metadata": {},
   "source": [
    " Numbers Problem\n",
    "\n",
    "Problem:\n",
    "nums = [1, -2, 3, -4, 5]\n",
    "\n",
    "Filter positive numbers\n",
    "\n",
    "Square them\n",
    "\n",
    "Sum them using reduce"
   ]
  },
  {
   "cell_type": "code",
   "execution_count": null,
   "id": "beb75422",
   "metadata": {},
   "outputs": [
    {
     "name": "stdout",
     "output_type": "stream",
     "text": [
      "Positive numbers: [1, 3, 5]\n",
      "Squared positive numbers: [1, 9, 25]\n",
      "Sum of squares: 35\n"
     ]
    }
   ],
   "source": [
    "from functools import reduce\n",
    "\n",
    "nums = [1, -2, 3, -4, 5]\n",
    "\n",
    "positive_nums = list(filter(lambda x: x > 0, nums))\n",
    "\n",
    "\n",
    "squared_nums = list(map(lambda x: x**2, positive_nums))\n",
    "\n",
    "sum_of_squares = reduce(lambda x, y: x + y, squared_nums)\n",
    "\n",
    "print(\"Positive numbers:\", positive_nums)\n",
    "print(\"Squared positive numbers:\", squared_nums)\n",
    "print(\"Sum of squares:\", sum_of_squares)\n"
   ]
  },
  {
   "cell_type": "markdown",
   "id": "6a75531c",
   "metadata": {},
   "source": [
    "2String Problem\n",
    "\n",
    "Problem:\n",
    "names = [\"John\", \"Jane\", \"Bob\", \"Alice\"]\n",
    "\n",
    "Filter names with length > 3\n",
    "\n",
    "Convert them to uppercase"
   ]
  },
  {
   "cell_type": "code",
   "execution_count": null,
   "id": "72ab35a5",
   "metadata": {},
   "outputs": [
    {
     "name": "stdout",
     "output_type": "stream",
     "text": [
      "Filtered names: ['John', 'Jane', 'Alice']\n",
      "Uppercase names: ['JOHN', 'JANE', 'ALICE']\n",
      "Joined string: JOHN JANE ALICE\n"
     ]
    }
   ],
   "source": [
    "names = [\"John\", \"Jane\", \"Bob\", \"Alice\"]\n",
    "\n",
    "#  Filter names with length > 3\n",
    "long_names = list(filter(lambda x: len(x) > 3, names))\n",
    "\n",
    "# Convert them to uppercase\n",
    "upper_names = list(map(lambda x: x.upper(), long_names))\n",
    "\n",
    "# Join them into a single string\n",
    "joined_names = reduce(lambda x, y: x + \" \" + y, upper_names)\n",
    "\n",
    "print(\"Filtered names:\", long_names)\n",
    "print(\"Uppercase names:\", upper_names)\n",
    "print(\"Joined string:\", joined_names)\n"
   ]
  },
  {
   "cell_type": "markdown",
   "id": "37ea24ed",
   "metadata": {},
   "source": [
    "Nested Combination Problem\n",
    "\n",
    "Problem:\n",
    "nums = [1,2,3,4,5,6,7,8,9,10]\n",
    "\n",
    "Find the product of squares of numbers divisible by 3 using map, filter, reduce together"
   ]
  },
  {
   "cell_type": "code",
   "execution_count": null,
   "id": "a30116d0",
   "metadata": {},
   "outputs": [
    {
     "name": "stdout",
     "output_type": "stream",
     "text": [
      "Numbers divisible by 3: [3, 6, 9]\n",
      "Squared numbers: [9, 36, 81]\n",
      "Product of squares: 26244\n"
     ]
    }
   ],
   "source": [
    "nums = [1,2,3,4,5,6,7,8,9,10]\n",
    "\n",
    "#  Filter numbers divisible by 3\n",
    "div_by_3 = list(filter(lambda x: x % 3 == 0, nums))\n",
    "\n",
    "\n",
    "squared = list(map(lambda x: x**2, div_by_3))\n",
    "\n",
    "\n",
    "product_of_squares = reduce(lambda x, y: x * y, squared)\n",
    "\n",
    "print(\"Numbers divisible by 3:\", div_by_3)\n",
    "print(\"Squared numbers:\", squared)\n",
    "print(\"Product of squares:\", product_of_squares)\n"
   ]
  }
 ],
 "metadata": {
  "kernelspec": {
   "display_name": "Python 3",
   "language": "python",
   "name": "python3"
  },
  "language_info": {
   "codemirror_mode": {
    "name": "ipython",
    "version": 3
   },
   "file_extension": ".py",
   "mimetype": "text/x-python",
   "name": "python",
   "nbconvert_exporter": "python",
   "pygments_lexer": "ipython3",
   "version": "3.10.8"
  }
 },
 "nbformat": 4,
 "nbformat_minor": 5
}
