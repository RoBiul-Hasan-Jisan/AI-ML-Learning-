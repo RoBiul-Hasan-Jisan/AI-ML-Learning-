{
 "cells": [
  {
   "cell_type": "code",
   "execution_count": 1,
   "id": "6720b80e",
   "metadata": {},
   "outputs": [],
   "source": [
    "import numpy as np"
   ]
  },
  {
   "cell_type": "code",
   "execution_count": 2,
   "id": "5d447c9a",
   "metadata": {},
   "outputs": [
    {
     "name": "stdout",
     "output_type": "stream",
     "text": [
      "[1 2 3]\n",
      "[[1 2]\n",
      " [3 4]]\n"
     ]
    },
    {
     "data": {
      "text/plain": [
       "array([0.  , 0.25, 0.5 , 0.75, 1.  ])"
      ]
     },
     "execution_count": 2,
     "metadata": {},
     "output_type": "execute_result"
    }
   ],
   "source": [
    "# From list\n",
    "a = np.array([1, 2, 3])\n",
    "print(a)\n",
    "\n",
    "# Multi-dimensional\n",
    "b = np.array([[1, 2], [3, 4]])\n",
    "print(b)\n",
    "\n",
    "# Zeros and Ones\n",
    "np.zeros((2, 3))\n",
    "np.ones((3, 3))\n",
    "\n",
    "# Identity matrix\n",
    "np.eye(4)\n",
    "\n",
    "# arange and linspace\n",
    "np.arange(0, 10, 2)       # [0,2,4,6,8]\n",
    "np.linspace(0, 1, 5)      # 5 equally spaced numbers\n"
   ]
  },
  {
   "cell_type": "markdown",
   "id": "0fe2558e",
   "metadata": {},
   "source": [
    "# Array Attributes"
   ]
  },
  {
   "cell_type": "code",
   "execution_count": 4,
   "id": "fba23ca3",
   "metadata": {},
   "outputs": [
    {
     "name": "stdout",
     "output_type": "stream",
     "text": [
      "2\n",
      "(2, 3)\n",
      "6\n",
      "int64\n"
     ]
    }
   ],
   "source": [
    "arr = np.array([[1,2,3],[4,5,6]])\n",
    "print(arr.ndim)     # 2\n",
    "print(arr.shape)    # (2,3)\n",
    "print(arr.size)     # 6\n",
    "print(arr.dtype)    # int64\n"
   ]
  },
  {
   "cell_type": "markdown",
   "id": "66969cd4",
   "metadata": {},
   "source": [
    "# Indexing & Slicing"
   ]
  },
  {
   "cell_type": "code",
   "execution_count": 3,
   "id": "bd481ffe",
   "metadata": {},
   "outputs": [
    {
     "name": "stdout",
     "output_type": "stream",
     "text": [
      "0 9\n",
      "[2 4 6]\n",
      "20\n",
      "[20 50]\n",
      "[40 50 60]\n"
     ]
    }
   ],
   "source": [
    "a = np.arange(10)  # 0 to 9\n",
    "print(a[0], a[-1])  # 0 9\n",
    "print(a[2:7:2])     # slicing [2,4,6]\n",
    "\n",
    "b = np.array([[10,20,30],[40,50,60]])\n",
    "print(b[0,1])   # 20\n",
    "print(b[:,1])   # column 1\n",
    "print(b[1,:])   # row 1\n"
   ]
  },
  {
   "cell_type": "code",
   "execution_count": 5,
   "id": "f5eead64",
   "metadata": {},
   "outputs": [
    {
     "name": "stdout",
     "output_type": "stream",
     "text": [
      "float32\n"
     ]
    }
   ],
   "source": [
    "a = np.array([1,2,3], dtype=np.float32)\n",
    "print(a.dtype)  # float32\n",
    "\n",
    "b = a.astype(np.int32)\n"
   ]
  },
  {
   "cell_type": "code",
   "execution_count": 6,
   "id": "0e748590",
   "metadata": {},
   "outputs": [
    {
     "name": "stdout",
     "output_type": "stream",
     "text": [
      "[11 22 33]\n",
      "[10 40 90]\n",
      "[10. 10. 10.]\n"
     ]
    }
   ],
   "source": [
    "x = np.array([1, 2, 3])\n",
    "y = np.array([10, 20, 30])\n",
    "\n",
    "print(x + y)     # [11 22 33]\n",
    "print(x * y)     # [10 40 90]\n",
    "print(y / x)     # [10. 10. 10.]\n"
   ]
  },
  {
   "cell_type": "markdown",
   "id": "11aa0337",
   "metadata": {},
   "source": [
    "# Universal Functions (ufuncs)\n",
    "\n",
    "Built-in vectorized operations."
   ]
  },
  {
   "cell_type": "code",
   "execution_count": 7,
   "id": "5c7f6eb6",
   "metadata": {},
   "outputs": [
    {
     "name": "stdout",
     "output_type": "stream",
     "text": [
      "[1.         1.41421356 1.73205081 2.         2.23606798]\n",
      "[  2.71828183   7.3890561   20.08553692  54.59815003 148.4131591 ]\n",
      "[0.         0.69314718 1.09861229 1.38629436 1.60943791]\n",
      "[ 0.84147098  0.90929743  0.14112001 -0.7568025  -0.95892427]\n"
     ]
    }
   ],
   "source": [
    "a = np.arange(1, 6)\n",
    "print(np.sqrt(a))\n",
    "print(np.exp(a))\n",
    "print(np.log(a))\n",
    "print(np.sin(a))\n"
   ]
  },
  {
   "cell_type": "markdown",
   "id": "040eceac",
   "metadata": {},
   "source": [
    "# Broadcasting\n",
    "\n",
    "Allows operations between different shaped arrays"
   ]
  },
  {
   "cell_type": "code",
   "execution_count": 8,
   "id": "2fdfece9",
   "metadata": {},
   "outputs": [
    {
     "name": "stdout",
     "output_type": "stream",
     "text": [
      "[[11 21 31]\n",
      " [12 22 32]\n",
      " [13 23 33]]\n"
     ]
    }
   ],
   "source": [
    "A = np.array([[1],[2],[3]])  # shape (3,1)\n",
    "B = np.array([10,20,30])     # shape (3,)\n",
    "print(A + B)\n"
   ]
  },
  {
   "cell_type": "markdown",
   "id": "b24bda91",
   "metadata": {},
   "source": [
    "# Shape Manipulation\n",
    " Reshaping"
   ]
  },
  {
   "cell_type": "code",
   "execution_count": 9,
   "id": "2f1936c0",
   "metadata": {},
   "outputs": [
    {
     "name": "stdout",
     "output_type": "stream",
     "text": [
      "[[ 0  1  2  3]\n",
      " [ 4  5  6  7]\n",
      " [ 8  9 10 11]]\n"
     ]
    }
   ],
   "source": [
    "arr = np.arange(12)\n",
    "print(arr.reshape(3,4))\n"
   ]
  },
  {
   "cell_type": "markdown",
   "id": "b5eef251",
   "metadata": {},
   "source": [
    "Flatten vs Ravel"
   ]
  },
  {
   "cell_type": "code",
   "execution_count": 10,
   "id": "37c69ffe",
   "metadata": {},
   "outputs": [],
   "source": [
    "a = np.arange(6).reshape(2,3)\n",
    "b = a.flatten()   # copy\n",
    "c = a.ravel()     # view"
   ]
  },
  {
   "cell_type": "markdown",
   "id": "7bc0b2e2",
   "metadata": {},
   "source": [
    "# Stacking & Splitting"
   ]
  },
  {
   "cell_type": "code",
   "execution_count": 12,
   "id": "2316359b",
   "metadata": {},
   "outputs": [
    {
     "name": "stdout",
     "output_type": "stream",
     "text": [
      "[[1 2]\n",
      " [3 4]\n",
      " [5 6]]\n",
      "[[1 2 5]\n",
      " [3 4 6]]\n"
     ]
    },
    {
     "data": {
      "text/plain": [
       "[array([[0, 1, 2]]), array([[3, 4, 5]]), array([[6, 7, 8]])]"
      ]
     },
     "execution_count": 12,
     "metadata": {},
     "output_type": "execute_result"
    }
   ],
   "source": [
    "a = np.array([[1,2],[3,4]])\n",
    "b = np.array([[5,6]])\n",
    "\n",
    "print(np.vstack((a,b)))\n",
    "print(np.hstack((a,b.T)))\n",
    "\n",
    "# Splitting\n",
    "x = np.arange(9).reshape(3,3)\n",
    "np.hsplit(x, 3)\n",
    "np.vsplit(x, 3)\n"
   ]
  },
  {
   "cell_type": "markdown",
   "id": "7acda5f6",
   "metadata": {},
   "source": [
    "## Math & Statistics"
   ]
  },
  {
   "cell_type": "code",
   "execution_count": 13,
   "id": "059212de",
   "metadata": {},
   "outputs": [
    {
     "name": "stdout",
     "output_type": "stream",
     "text": [
      "10 2.5 1.118033988749895 1.25\n",
      "1 4\n"
     ]
    }
   ],
   "source": [
    "x = np.array([1,2,3,4])\n",
    "print(x.sum(), x.mean(), x.std(), x.var())\n",
    "print(x.min(), x.max())"
   ]
  },
  {
   "cell_type": "code",
   "execution_count": 24,
   "id": "c06a6491",
   "metadata": {},
   "outputs": [
    {
     "ename": "IndexError",
     "evalue": "too many indices for array: array is 1-dimensional, but 2 were indexed",
     "output_type": "error",
     "traceback": [
      "\u001b[1;31m---------------------------------------------------------------------------\u001b[0m",
      "\u001b[1;31mIndexError\u001b[0m                                Traceback (most recent call last)",
      "Cell \u001b[1;32mIn[24], line 2\u001b[0m\n\u001b[0;32m      1\u001b[0m arr \u001b[38;5;241m=\u001b[39m np\u001b[38;5;241m.\u001b[39marray([\u001b[38;5;241m40\u001b[39m,\u001b[38;5;241m50\u001b[39m,\u001b[38;5;241m60\u001b[39m])\n\u001b[1;32m----> 2\u001b[0m \u001b[38;5;28mprint\u001b[39m(\u001b[43marr\u001b[49m\u001b[43m[\u001b[49m\u001b[43m:\u001b[49m\u001b[43m,\u001b[49m\u001b[38;5;241;43m1\u001b[39;49m\u001b[43m]\u001b[49m)\n",
      "\u001b[1;31mIndexError\u001b[0m: too many indices for array: array is 1-dimensional, but 2 were indexed"
     ]
    }
   ],
   "source": [
    "arr = np.array([40,50,60])\n",
    "print(arr[:,1])"
   ]
  },
  {
   "cell_type": "markdown",
   "id": "1c2c39a5",
   "metadata": {},
   "source": [
    "### arr[:, 1] uses two indices:  arr[rows , columns]"
   ]
  },
  {
   "cell_type": "code",
   "execution_count": 25,
   "id": "fe295f7a",
   "metadata": {},
   "outputs": [
    {
     "name": "stdout",
     "output_type": "stream",
     "text": [
      "[20 50]\n"
     ]
    }
   ],
   "source": [
    "import numpy as np\n",
    "\n",
    "arr = np.array([[10, 20, 30],\n",
    "                [40, 50, 60]])\n",
    "\n",
    "print(arr[:, 1])"
   ]
  },
  {
   "cell_type": "code",
   "execution_count": 22,
   "id": "c2076644",
   "metadata": {},
   "outputs": [
    {
     "name": "stdout",
     "output_type": "stream",
     "text": [
      "[1 0 0 0 5]\n"
     ]
    }
   ],
   "source": [
    "arr = np.array([1,2,3,4,5])\n",
    "arr[1:4]=0\n",
    "print(arr)"
   ]
  },
  {
   "cell_type": "markdown",
   "id": "9cdcd208",
   "metadata": {},
   "source": [
    "# Axis"
   ]
  },
  {
   "cell_type": "code",
   "execution_count": 14,
   "id": "eb05ac8c",
   "metadata": {},
   "outputs": [
    {
     "name": "stdout",
     "output_type": "stream",
     "text": [
      "[5 7 9]\n",
      "[ 6 15]\n"
     ]
    }
   ],
   "source": [
    "m = np.array([[1,2,3],[4,5,6]])\n",
    "print(m.sum(axis=0))  # column-wise\n",
    "print(m.sum(axis=1))  # row-wise\n"
   ]
  },
  {
   "cell_type": "markdown",
   "id": "111a40b9",
   "metadata": {},
   "source": [
    "# Sorting & Searching"
   ]
  },
  {
   "cell_type": "code",
   "execution_count": 15,
   "id": "9d40f087",
   "metadata": {},
   "outputs": [
    {
     "name": "stdout",
     "output_type": "stream",
     "text": [
      "[1 2 3]\n",
      "[1 2 0]\n",
      "[[3 1]\n",
      " [9 7]]\n"
     ]
    }
   ],
   "source": [
    "arr = np.array([3,1,2])\n",
    "print(np.sort(arr))\n",
    "print(np.argsort(arr))  # indices\n",
    "\n",
    "m = np.array([[3,7],[9,1]])\n",
    "print(np.sort(m, axis=0))\n"
   ]
  },
  {
   "cell_type": "markdown",
   "id": "092bc685",
   "metadata": {},
   "source": [
    "## Linear Algebra"
   ]
  },
  {
   "cell_type": "code",
   "execution_count": 16,
   "id": "b32cb8cf",
   "metadata": {},
   "outputs": [
    {
     "name": "stdout",
     "output_type": "stream",
     "text": [
      "[[19 22]\n",
      " [43 50]]\n",
      "[[19 22]\n",
      " [43 50]]\n",
      "[[1 3]\n",
      " [2 4]]\n",
      "[[-2.   1. ]\n",
      " [ 1.5 -0.5]]\n",
      "-2.0000000000000004\n",
      "[-0.37228132  5.37228132] [[-0.82456484 -0.41597356]\n",
      " [ 0.56576746 -0.90937671]]\n"
     ]
    }
   ],
   "source": [
    "A = np.array([[1,2],[3,4]])\n",
    "B = np.array([[5,6],[7,8]])\n",
    "\n",
    "print(A @ B)             # matrix multiplication\n",
    "print(np.dot(A,B))\n",
    "\n",
    "print(np.transpose(A))\n",
    "print(np.linalg.inv(A))\n",
    "print(np.linalg.det(A))\n",
    "\n",
    "# Eigenvalues\n",
    "vals, vecs = np.linalg.eig(A)\n",
    "print(vals, vecs)\n",
    "\n",
    "# Solving Ax = b\n",
    "b = np.array([1,2])\n",
    "x = np.linalg.solve(A, b)\n"
   ]
  },
  {
   "cell_type": "markdown",
   "id": "181049c8",
   "metadata": {},
   "source": [
    "### np.vectorize"
   ]
  },
  {
   "cell_type": "code",
   "execution_count": 17,
   "id": "be8b0be1",
   "metadata": {},
   "outputs": [
    {
     "name": "stdout",
     "output_type": "stream",
     "text": [
      "[ 1  2  5 10 17]\n"
     ]
    }
   ],
   "source": [
    "def myfunc(x): return x**2 + 1\n",
    "vfunc = np.vectorize(myfunc)\n",
    "print(vfunc(np.arange(5)))\n"
   ]
  },
  {
   "cell_type": "markdown",
   "id": "3a924515",
   "metadata": {},
   "source": [
    "### np.fromfunction, np.fromiter"
   ]
  },
  {
   "cell_type": "code",
   "execution_count": 18,
   "id": "983bb3f9",
   "metadata": {},
   "outputs": [
    {
     "name": "stdout",
     "output_type": "stream",
     "text": [
      "[[0 1 2]\n",
      " [1 2 3]\n",
      " [2 3 4]]\n"
     ]
    }
   ],
   "source": [
    "a = np.fromfunction(lambda i,j: i+j, (3,3), dtype=int)\n",
    "print(a)\n",
    "\n",
    "b = np.fromiter((i*i for i in range(5)), dtype=int)\n"
   ]
  }
 ],
 "metadata": {
  "kernelspec": {
   "display_name": "Python 3",
   "language": "python",
   "name": "python3"
  },
  "language_info": {
   "codemirror_mode": {
    "name": "ipython",
    "version": 3
   },
   "file_extension": ".py",
   "mimetype": "text/x-python",
   "name": "python",
   "nbconvert_exporter": "python",
   "pygments_lexer": "ipython3",
   "version": "3.10.8"
  }
 },
 "nbformat": 4,
 "nbformat_minor": 5
}
