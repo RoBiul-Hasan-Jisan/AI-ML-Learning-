{
 "cells": [
  {
   "cell_type": "markdown",
   "id": "ad567ae8",
   "metadata": {},
   "source": [
    "What is an Exception?\n",
    "\n",
    "An exception is an error that occurs during the execution of a program. Unlike syntax errors (which prevent code from running), exceptions happen while the code is running."
   ]
  },
  {
   "cell_type": "markdown",
   "id": "9b93950a",
   "metadata": {},
   "source": [
    "Modes:\n",
    "\n",
    "Mode\tDescription\n",
    "r\tRead (default), file must exist\n",
    "w\tWrite, creates file or overwrites existing\n",
    "a\tAppend, adds content at the end\n",
    "x\tCreate file, fails if file exists\n",
    "b\tBinary mode (e.g., 'rb', 'wb')\n",
    "+\tRead and write (e.g., 'r+', 'w+')\n"
   ]
  },
  {
   "cell_type": "markdown",
   "id": "0227c544",
   "metadata": {},
   "source": [
    "Reading Files"
   ]
  },
  {
   "cell_type": "code",
   "execution_count": null,
   "id": "940ffc77",
   "metadata": {},
   "outputs": [],
   "source": [
    "file = open(\"example.txt\", \"r\")\n",
    "content = file.read()  # read entire content\n",
    "print(content)\n",
    "file.close()\n"
   ]
  },
  {
   "cell_type": "markdown",
   "id": "93aa6981",
   "metadata": {},
   "source": [
    "Other reading methods:"
   ]
  },
  {
   "cell_type": "code",
   "execution_count": null,
   "id": "68defeb3",
   "metadata": {},
   "outputs": [],
   "source": [
    "file.readline()  # reads one line\n",
    "file.readlines() # reads all lines into a list\n"
   ]
  },
  {
   "cell_type": "markdown",
   "id": "c77fbd99",
   "metadata": {},
   "source": [
    "Writing to Files"
   ]
  },
  {
   "cell_type": "code",
   "execution_count": null,
   "id": "8116931a",
   "metadata": {},
   "outputs": [],
   "source": [
    "file = open(\"example.txt\", \"w\")\n",
    "file.write(\"Hello, Python!\\n\")\n",
    "file.write(\"File handling is easy.\")\n",
    "file.close()\n",
    "#w mode overwrites the file.\n",
    "\n",
    "#a mode appends content."
   ]
  },
  {
   "cell_type": "markdown",
   "id": "0f628656",
   "metadata": {},
   "source": [
    "Using with Statement\n",
    "Automatically handles closing the file:"
   ]
  },
  {
   "cell_type": "code",
   "execution_count": null,
   "id": "b3c042eb",
   "metadata": {},
   "outputs": [],
   "source": [
    "with open(\"example.txt\", \"r\") as file:\n",
    "    content = file.read()\n",
    "    print(content)\n",
    "\n",
    "with open(\"example.txt\", \"a\") as file:\n",
    "    file.write(\"\\nAppending this line safely.\")\n"
   ]
  },
  {
   "cell_type": "markdown",
   "id": "5e297a16",
   "metadata": {},
   "source": []
  }
 ],
 "metadata": {
  "language_info": {
   "name": "python"
  }
 },
 "nbformat": 4,
 "nbformat_minor": 5
}
