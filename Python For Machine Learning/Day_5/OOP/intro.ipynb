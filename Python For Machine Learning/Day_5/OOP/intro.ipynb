{
 "cells": [
  {
   "cell_type": "markdown",
   "id": "40521a5b",
   "metadata": {},
   "source": [
    "What is OOP?\n",
    "\n",
    "Object-Oriented Programming (OOP) is a programming paradigm based on objects. An object represents real-world entities with attributes (data) and methods (functions).\n",
    "\n",
    "Key Idea: Code is organized around objects rather than actions."
   ]
  },
  {
   "cell_type": "markdown",
   "id": "183fa6f3",
   "metadata": {},
   "source": [
    "Class\n",
    "\n",
    "A class is a blueprint for creating objects. It defines attributes and methods."
   ]
  },
  {
   "cell_type": "code",
   "execution_count": 2,
   "id": "85dd6720",
   "metadata": {},
   "outputs": [],
   "source": [
    "class Car:\n",
    "    # attribute\n",
    "    wheels = 4\n",
    "\n",
    "    # method\n",
    "    def drive(self):\n",
    "        print(\"Car is driving\")\n"
   ]
  },
  {
   "cell_type": "markdown",
   "id": "9bb40efb",
   "metadata": {},
   "source": [
    " Object\n",
    "\n",
    "An object is an instance of a class."
   ]
  },
  {
   "cell_type": "code",
   "execution_count": 3,
   "id": "fc35be14",
   "metadata": {},
   "outputs": [
    {
     "name": "stdout",
     "output_type": "stream",
     "text": [
      "4\n",
      "Car is driving\n"
     ]
    }
   ],
   "source": [
    "my_car = Car()  # creating object\n",
    "print(my_car.wheels)\n",
    "my_car.drive()\n"
   ]
  },
  {
   "cell_type": "markdown",
   "id": "c42ec47c",
   "metadata": {},
   "source": [
    "init Method (Constructor)\n",
    "\n",
    "__init__ is a special method called when an object is created"
   ]
  },
  {
   "cell_type": "code",
   "execution_count": 4,
   "id": "dd982a87",
   "metadata": {},
   "outputs": [
    {
     "name": "stdout",
     "output_type": "stream",
     "text": [
      "Brand: Toyota, Color: Red\n"
     ]
    }
   ],
   "source": [
    "class Car:\n",
    "    def __init__(self, brand, color):\n",
    "        self.brand = brand\n",
    "        self.color = color\n",
    "\n",
    "    def info(self):\n",
    "        print(f\"Brand: {self.brand}, Color: {self.color}\")\n",
    "\n",
    "car1 = Car(\"Toyota\", \"Red\")\n",
    "car1.info()\n"
   ]
  },
  {
   "cell_type": "markdown",
   "id": "fdc7f3c6",
   "metadata": {},
   "source": [
    "Attributes\n",
    "\n",
    "Instance attributes: unique to each object.\n",
    "Class attributes: shared among all objects"
   ]
  },
  {
   "cell_type": "code",
   "execution_count": 5,
   "id": "bb3f63ee",
   "metadata": {},
   "outputs": [
    {
     "name": "stdout",
     "output_type": "stream",
     "text": [
      "4 Honda\n",
      "4 BMW\n"
     ]
    }
   ],
   "source": [
    "class Car:\n",
    "    wheels = 4  # class attribute\n",
    "\n",
    "    def __init__(self, brand):\n",
    "        self.brand = brand  # instance attribute\n",
    "\n",
    "car1 = Car(\"Honda\")\n",
    "car2 = Car(\"BMW\")\n",
    "print(car1.wheels, car1.brand)\n",
    "print(car2.wheels, car2.brand)\n"
   ]
  },
  {
   "cell_type": "markdown",
   "id": "9c4739d8",
   "metadata": {},
   "source": [
    "Methods\n",
    "\n",
    "Instance methods: operate on instance (self)\n",
    "\n",
    "Class methods: operate on class (@classmethod)\n",
    "\n",
    "Static methods: utility functions (@staticmethod)"
   ]
  },
  {
   "cell_type": "code",
   "execution_count": 6,
   "id": "2ab3df9f",
   "metadata": {},
   "outputs": [
    {
     "name": "stdout",
     "output_type": "stream",
     "text": [
      "Honda is driving\n",
      "All cars have 4 wheels\n",
      "Welcome to the car world!\n"
     ]
    }
   ],
   "source": [
    "class Car:\n",
    "    wheels = 4\n",
    "\n",
    "    def __init__(self, brand):\n",
    "        self.brand = brand\n",
    "\n",
    "    def drive(self):\n",
    "        print(f\"{self.brand} is driving\")\n",
    "\n",
    "    @classmethod\n",
    "    def general_info(cls):\n",
    "        print(f\"All cars have {cls.wheels} wheels\")\n",
    "\n",
    "    @staticmethod\n",
    "    def welcome():\n",
    "        print(\"Welcome to the car world!\")\n",
    "\n",
    "car1 = Car(\"Honda\")\n",
    "car1.drive()\n",
    "Car.general_info()\n",
    "Car.welcome()\n"
   ]
  },
  {
   "cell_type": "markdown",
   "id": "1e026903",
   "metadata": {},
   "source": [
    "Encapsulation\n",
    "\n",
    "Encapsulation: hiding internal data using private attributes."
   ]
  },
  {
   "cell_type": "code",
   "execution_count": 7,
   "id": "d124d391",
   "metadata": {},
   "outputs": [
    {
     "name": "stdout",
     "output_type": "stream",
     "text": [
      "100\n",
      "150\n"
     ]
    }
   ],
   "source": [
    "class Car:\n",
    "    def __init__(self, brand, speed):\n",
    "        self.brand = brand\n",
    "        self.__speed = speed  # private attribute\n",
    "\n",
    "    def set_speed(self, speed):\n",
    "        self.__speed = speed\n",
    "\n",
    "    def get_speed(self):\n",
    "        return self.__speed\n",
    "\n",
    "car = Car(\"BMW\", 100)\n",
    "print(car.get_speed())\n",
    "car.set_speed(150)\n",
    "print(car.get_speed())\n"
   ]
  },
  {
   "cell_type": "markdown",
   "id": "a70fa482",
   "metadata": {},
   "source": [
    " Inheritance\n",
    "\n",
    "Inheritance allows a class to inherit attributes and methods from another class."
   ]
  },
  {
   "cell_type": "code",
   "execution_count": 8,
   "id": "76738a97",
   "metadata": {},
   "outputs": [
    {
     "name": "stdout",
     "output_type": "stream",
     "text": [
      "Brand: Toyota\n",
      "Toyota is driving\n"
     ]
    }
   ],
   "source": [
    "class Vehicle:\n",
    "    def __init__(self, brand):\n",
    "        self.brand = brand\n",
    "\n",
    "    def info(self):\n",
    "        print(f\"Brand: {self.brand}\")\n",
    "\n",
    "class Car(Vehicle):\n",
    "    def drive(self):\n",
    "        print(f\"{self.brand} is driving\")\n",
    "\n",
    "my_car = Car(\"Toyota\")\n",
    "my_car.info()\n",
    "my_car.drive()\n"
   ]
  },
  {
   "cell_type": "markdown",
   "id": "2e65de15",
   "metadata": {},
   "source": [
    "Types of Inheritance:\n",
    "\n",
    "Single Inheritance\n",
    "\n",
    "Multiple Inheritance\n",
    "\n",
    "Multilevel Inheritance\n",
    "\n",
    "Hierarchical Inheritance\n",
    "\n",
    "Hybrid Inheritance"
   ]
  },
  {
   "cell_type": "markdown",
   "id": "3e7f39fa",
   "metadata": {},
   "source": [
    " Polymorphism\n",
    "\n",
    "Polymorphism: same interface, different behavior."
   ]
  },
  {
   "cell_type": "markdown",
   "id": "f460113e",
   "metadata": {},
   "source": [
    "a) Method Overriding"
   ]
  },
  {
   "cell_type": "code",
   "execution_count": 10,
   "id": "e913c880",
   "metadata": {},
   "outputs": [
    {
     "name": "stdout",
     "output_type": "stream",
     "text": [
      "Vehicle moves\n",
      "Car drives\n"
     ]
    }
   ],
   "source": [
    "class Vehicle:\n",
    "    def move(self):\n",
    "        print(\"Vehicle moves\")\n",
    "\n",
    "class Car(Vehicle):\n",
    "    def move(self):\n",
    "        print(\"Car drives\")\n",
    "\n",
    "v = Vehicle()\n",
    "v.move()\n",
    "c = Car()\n",
    "c.move()\n"
   ]
  },
  {
   "cell_type": "markdown",
   "id": "eeaae2cc",
   "metadata": {},
   "source": [
    "b) Operator Overloading"
   ]
  },
  {
   "cell_type": "code",
   "execution_count": 11,
   "id": "2efb4040",
   "metadata": {},
   "outputs": [
    {
     "name": "stdout",
     "output_type": "stream",
     "text": [
      "4 6\n"
     ]
    }
   ],
   "source": [
    "class Point:\n",
    "    def __init__(self, x, y):\n",
    "        self.x = x\n",
    "        self.y = y\n",
    "\n",
    "    def __add__(self, other):\n",
    "        return Point(self.x + other.x, self.y + other.y)\n",
    "\n",
    "p1 = Point(1, 2)\n",
    "p2 = Point(3, 4)\n",
    "p3 = p1 + p2\n",
    "print(p3.x, p3.y)\n"
   ]
  },
  {
   "cell_type": "markdown",
   "id": "2a021736",
   "metadata": {},
   "source": [
    "Abstraction\n",
    "\n",
    "Abstraction hides internal details. Use abstract classes with abc module."
   ]
  },
  {
   "cell_type": "code",
   "execution_count": 12,
   "id": "3869efd4",
   "metadata": {},
   "outputs": [
    {
     "name": "stdout",
     "output_type": "stream",
     "text": [
      "Car drives\n"
     ]
    }
   ],
   "source": [
    "from abc import ABC, abstractmethod\n",
    "\n",
    "class Vehicle(ABC):\n",
    "    @abstractmethod\n",
    "    def move(self):\n",
    "        pass\n",
    "\n",
    "class Car(Vehicle):\n",
    "    def move(self):\n",
    "        print(\"Car drives\")\n",
    "\n",
    "c = Car()\n",
    "c.move()\n"
   ]
  },
  {
   "cell_type": "markdown",
   "id": "90e6550e",
   "metadata": {},
   "source": [
    "we cannot instantiate an abstract class."
   ]
  },
  {
   "cell_type": "markdown",
   "id": "e755dcf1",
   "metadata": {},
   "source": [
    "pecial Methods (Magic Methods / Dunder Methods)\n",
    "\n",
    "Special methods allow objects to behave like built-ins.\n",
    "\n",
    "Method\tPurpose\n",
    "__init__\tConstructor\n",
    "__str__\tString representation\n",
    "__repr__\tOfficial string representation\n",
    "__add__\tAddition operator overloading\n",
    "__len__\tlen() function\n",
    "__getitem__\tIndexing with []\n",
    "__setitem__\tSetting value with []\n",
    "__del__\tDestructor"
   ]
  },
  {
   "cell_type": "code",
   "execution_count": 13,
   "id": "3555f7aa",
   "metadata": {},
   "outputs": [
    {
     "name": "stdout",
     "output_type": "stream",
     "text": [
      "Person: Alice\n"
     ]
    }
   ],
   "source": [
    "class Person:\n",
    "    def __init__(self, name):\n",
    "        self.name = name\n",
    "\n",
    "    def __str__(self):\n",
    "        return f\"Person: {self.name}\"\n",
    "\n",
    "p = Person(\"Alice\")\n",
    "print(p)\n"
   ]
  },
  {
   "cell_type": "markdown",
   "id": "a22f93b7",
   "metadata": {},
   "source": [
    "Composition\n",
    "\n",
    "Instead of inheritance, use objects inside objects."
   ]
  },
  {
   "cell_type": "code",
   "execution_count": 14,
   "id": "7323357a",
   "metadata": {},
   "outputs": [
    {
     "name": "stdout",
     "output_type": "stream",
     "text": [
      "Engine starts\n",
      "Car is ready\n"
     ]
    }
   ],
   "source": [
    "class Engine:\n",
    "    def start(self):\n",
    "        print(\"Engine starts\")\n",
    "\n",
    "class Car:\n",
    "    def __init__(self):\n",
    "        self.engine = Engine()\n",
    "\n",
    "    def start(self):\n",
    "        self.engine.start()\n",
    "        print(\"Car is ready\")\n",
    "\n",
    "my_car = Car()\n",
    "my_car.start()\n"
   ]
  },
  {
   "cell_type": "code",
   "execution_count": 15,
   "id": "fa8f1885",
   "metadata": {},
   "outputs": [
    {
     "name": "stdout",
     "output_type": "stream",
     "text": [
      "Toyota drives at 120 km/h\n",
      "Updated speed: 150\n"
     ]
    }
   ],
   "source": [
    "from abc import ABC, abstractmethod\n",
    "\n",
    "class Vehicle(ABC):\n",
    "    wheels = 4\n",
    "\n",
    "    @abstractmethod\n",
    "    def move(self):\n",
    "        pass\n",
    "\n",
    "class Car(Vehicle):\n",
    "    def __init__(self, brand, speed):\n",
    "        self.brand = brand\n",
    "        self.__speed = speed\n",
    "\n",
    "    def move(self):\n",
    "        print(f\"{self.brand} drives at {self.__speed} km/h\")\n",
    "\n",
    "    def set_speed(self, speed):\n",
    "        self.__speed = speed\n",
    "\n",
    "    def get_speed(self):\n",
    "        return self.__speed\n",
    "\n",
    "c = Car(\"Toyota\", 120)\n",
    "c.move()\n",
    "c.set_speed(150)\n",
    "print(\"Updated speed:\", c.get_speed())\n"
   ]
  }
 ],
 "metadata": {
  "kernelspec": {
   "display_name": "Python 3",
   "language": "python",
   "name": "python3"
  },
  "language_info": {
   "codemirror_mode": {
    "name": "ipython",
    "version": 3
   },
   "file_extension": ".py",
   "mimetype": "text/x-python",
   "name": "python",
   "nbconvert_exporter": "python",
   "pygments_lexer": "ipython3",
   "version": "3.10.8"
  }
 },
 "nbformat": 4,
 "nbformat_minor": 5
}
