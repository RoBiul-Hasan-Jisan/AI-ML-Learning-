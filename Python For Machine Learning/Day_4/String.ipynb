{
 "cells": [
  {
   "cell_type": "markdown",
   "id": "deb349bc",
   "metadata": {},
   "source": [
    "String Indexing & Slicing"
   ]
  },
  {
   "cell_type": "code",
   "execution_count": null,
   "id": "2fc8d319",
   "metadata": {},
   "outputs": [
    {
     "name": "stdout",
     "output_type": "stream",
     "text": [
      "s\n",
      "l\n"
     ]
    }
   ],
   "source": [
    "s = \"Robiul Hasan Jisan\"\n",
    "\n",
    "print(s[-9])  #back\n",
    "print(s[5])   #forward\n"
   ]
  },
  {
   "cell_type": "markdown",
   "id": "f90cb427",
   "metadata": {},
   "source": [
    "Common String Operations"
   ]
  },
  {
   "cell_type": "code",
   "execution_count": null,
   "id": "38327a6a",
   "metadata": {},
   "outputs": [
    {
     "name": "stdout",
     "output_type": "stream",
     "text": [
      "11\n",
      "HELLO WORLD\n",
      "hello world\n",
      "Hello World\n",
      "hello world\n",
      "hello Python\n",
      "True\n",
      "False\n"
     ]
    }
   ],
   "source": [
    "s = \"hello world\"\n",
    "print(len(s))          # 11\n",
    "print(s.upper())       # HELLO WORLD\n",
    "print(s.lower())       # hello world\n",
    "print(s.title())       # Hello World\n",
    "print(s.strip())       # removes spaces from ends\n",
    "print(s.replace(\"world\", \"Python\"))  # hello Python\n",
    "print(\"world\" in s)    # True\n",
    "print(\"x\" in s)    # False\n"
   ]
  },
  {
   "cell_type": "markdown",
   "id": "a147b971",
   "metadata": {},
   "source": [
    "String Iteration"
   ]
  },
  {
   "cell_type": "code",
   "execution_count": 13,
   "id": "f10b1215",
   "metadata": {},
   "outputs": [
    {
     "name": "stdout",
     "output_type": "stream",
     "text": [
      "a\n",
      "b\n",
      "c\n"
     ]
    }
   ],
   "source": [
    "s = \"abc\"\n",
    "for ch in s:\n",
    "    print(ch)\n"
   ]
  },
  {
   "cell_type": "markdown",
   "id": "ae808608",
   "metadata": {},
   "source": [
    "Important String Methods for DSA"
   ]
  },
  {
   "cell_type": "code",
   "execution_count": 14,
   "id": "75f5ef40",
   "metadata": {},
   "outputs": [
    {
     "name": "stdout",
     "output_type": "stream",
     "text": [
      "3\n",
      "2\n",
      "4\n",
      "True\n",
      "True\n"
     ]
    }
   ],
   "source": [
    "s = \"banana\"\n",
    "print(s.count(\"a\"))     # 3\n",
    "print(s.find(\"na\"))     # 2 (first index)\n",
    "print(s.rfind(\"na\"))    # 4 (last index)\n",
    "print(s.startswith(\"ba\")) # True\n",
    "print(s.endswith(\"na\"))   # True\n"
   ]
  },
  {
   "cell_type": "markdown",
   "id": "44d68e59",
   "metadata": {},
   "source": [
    "String Conversion & Splitting"
   ]
  },
  {
   "cell_type": "code",
   "execution_count": 15,
   "id": "60e1c90b",
   "metadata": {},
   "outputs": [
    {
     "name": "stdout",
     "output_type": "stream",
     "text": [
      "one-two-three\n"
     ]
    }
   ],
   "source": [
    "s = \"one two three\"\n",
    "words = s.split()    # ['one', 'two', 'three']\n",
    "print(\"-\".join(words))  # one-two-three\n"
   ]
  },
  {
   "cell_type": "markdown",
   "id": "0e271d3c",
   "metadata": {},
   "source": [
    "String Reversal"
   ]
  },
  {
   "cell_type": "code",
   "execution_count": null,
   "id": "983c6f16",
   "metadata": {},
   "outputs": [
    {
     "name": "stdout",
     "output_type": "stream",
     "text": [
      "hello\n"
     ]
    }
   ],
   "source": [
    "s = \"hello\"\n",
    "print(s[::-1])   # olleh\n"
   ]
  },
  {
   "cell_type": "markdown",
   "id": "e304e756",
   "metadata": {},
   "source": [
    "Palindrome Check"
   ]
  },
  {
   "cell_type": "code",
   "execution_count": 20,
   "id": "3e3c4a1a",
   "metadata": {},
   "outputs": [
    {
     "name": "stdout",
     "output_type": "stream",
     "text": [
      "True\n"
     ]
    }
   ],
   "source": [
    "def is_palindrome(s):\n",
    "    return s == s[::-1]\n",
    "\n",
    "print(is_palindrome(\"madam\"))  # True\n"
   ]
  }
 ],
 "metadata": {
  "kernelspec": {
   "display_name": "Python 3",
   "language": "python",
   "name": "python3"
  },
  "language_info": {
   "codemirror_mode": {
    "name": "ipython",
    "version": 3
   },
   "file_extension": ".py",
   "mimetype": "text/x-python",
   "name": "python",
   "nbconvert_exporter": "python",
   "pygments_lexer": "ipython3",
   "version": "3.10.8"
  }
 },
 "nbformat": 4,
 "nbformat_minor": 5
}
