{
 "cells": [
  {
   "cell_type": "markdown",
   "id": "13427c9c",
   "metadata": {},
   "source": [
    "# Basics of Lists\n",
    "\n",
    "A list is an ordered, mutable collection."
   ]
  },
  {
   "cell_type": "code",
   "execution_count": 1,
   "id": "96129dc8",
   "metadata": {},
   "outputs": [
    {
     "name": "stdout",
     "output_type": "stream",
     "text": [
      "[1, 2, 3, 4, 5]\n",
      "<class 'list'>\n"
     ]
    }
   ],
   "source": [
    "a = [1, 2, 3, 4, 5]\n",
    "print(a)         # [1, 2, 3, 4, 5]\n",
    "print(type(a))   # <class 'list'>\n"
   ]
  },
  {
   "cell_type": "markdown",
   "id": "4dfaaf95",
   "metadata": {},
   "source": [
    "# Indexing & Slicing"
   ]
  },
  {
   "cell_type": "code",
   "execution_count": 2,
   "id": "ce6e0be1",
   "metadata": {},
   "outputs": [
    {
     "name": "stdout",
     "output_type": "stream",
     "text": [
      "10\n",
      "50\n",
      "[20, 30, 40]\n"
     ]
    }
   ],
   "source": [
    "a = [10, 20, 30, 40, 50]\n",
    "print(a[0])     # 10\n",
    "print(a[-1])    # 50\n",
    "print(a[1:4])   # [20, 30, 40]\n"
   ]
  },
  {
   "cell_type": "markdown",
   "id": "9b0b2769",
   "metadata": {},
   "source": [
    "# Common List Operations"
   ]
  },
  {
   "cell_type": "code",
   "execution_count": 3,
   "id": "cb23ee82",
   "metadata": {},
   "outputs": [
    {
     "name": "stdout",
     "output_type": "stream",
     "text": [
      "3\n"
     ]
    }
   ],
   "source": [
    "a = [1, 2, 3]\n",
    "a.append(4)        # [1, 2, 3, 4]\n",
    "a.insert(1, 10)    # [1, 10, 2, 3, 4]\n",
    "a.remove(10)       # [1, 2, 3, 4]\n",
    "a.pop()            # removes last -> [1, 2, 3]\n",
    "a.sort()           # sorts ascending\n",
    "a.reverse()        # reverses list\n",
    "print(len(a))      # 3\n"
   ]
  },
  {
   "cell_type": "markdown",
   "id": "4310b47a",
   "metadata": {},
   "source": [
    "# Iteration"
   ]
  },
  {
   "cell_type": "code",
   "execution_count": 4,
   "id": "cac2de72",
   "metadata": {},
   "outputs": [
    {
     "name": "stdout",
     "output_type": "stream",
     "text": [
      "1\n",
      "2\n",
      "3\n",
      "1\n",
      "2\n",
      "3\n"
     ]
    }
   ],
   "source": [
    "a = [1, 2, 3]\n",
    "for x in a:\n",
    "    print(x)\n",
    "\n",
    "for i in range(len(a)):\n",
    "    print(a[i])\n"
   ]
  },
  {
   "cell_type": "markdown",
   "id": "258f6b4d",
   "metadata": {},
   "source": [
    "# List Comprehensions"
   ]
  },
  {
   "cell_type": "code",
   "execution_count": 5,
   "id": "e9e79afb",
   "metadata": {},
   "outputs": [
    {
     "name": "stdout",
     "output_type": "stream",
     "text": [
      "[0, 1, 4, 9, 16]\n"
     ]
    }
   ],
   "source": [
    "squares = [x*x for x in range(5)]\n",
    "print(squares)   # [0, 1, 4, 9, 16]\n"
   ]
  },
  {
   "cell_type": "markdown",
   "id": "7e227b3c",
   "metadata": {},
   "source": [
    "# 2D Lists (Matrix)"
   ]
  },
  {
   "cell_type": "code",
   "execution_count": 6,
   "id": "d985eccb",
   "metadata": {},
   "outputs": [
    {
     "name": "stdout",
     "output_type": "stream",
     "text": [
      "6\n"
     ]
    }
   ],
   "source": [
    "matrix = [[1,2,3],[4,5,6],[7,8,9]]\n",
    "print(matrix[1][2])   # 6\n"
   ]
  },
  {
   "cell_type": "markdown",
   "id": "26374251",
   "metadata": {},
   "source": [
    "# Find Maximum / Minimum"
   ]
  },
  {
   "cell_type": "code",
   "execution_count": 7,
   "id": "6fc0199e",
   "metadata": {},
   "outputs": [
    {
     "name": "stdout",
     "output_type": "stream",
     "text": [
      "20\n",
      "5\n"
     ]
    }
   ],
   "source": [
    "a = [10, 5, 20, 8]\n",
    "print(max(a))  # 20\n",
    "print(min(a))  # 5\n"
   ]
  },
  {
   "cell_type": "markdown",
   "id": "9530614e",
   "metadata": {},
   "source": [
    "# Prefix Sum (Cumulative Sum)"
   ]
  },
  {
   "cell_type": "code",
   "execution_count": 8,
   "id": "efa00e95",
   "metadata": {},
   "outputs": [
    {
     "name": "stdout",
     "output_type": "stream",
     "text": [
      "[0, 1, 3, 6, 10]\n"
     ]
    }
   ],
   "source": [
    "a = [1, 2, 3, 4]\n",
    "prefix = [0]*(len(a)+1)\n",
    "for i in range(1, len(a)+1):\n",
    "    prefix[i] = prefix[i-1] + a[i-1]\n",
    "print(prefix)  # [0, 1, 3, 6, 10]\n"
   ]
  },
  {
   "cell_type": "markdown",
   "id": "2bbe29b1",
   "metadata": {},
   "source": [
    "# Two Pointers Technique\n",
    "\n",
    "Find if a pair exists with a given sum"
   ]
  },
  {
   "cell_type": "code",
   "execution_count": 9,
   "id": "bf201b17",
   "metadata": {},
   "outputs": [
    {
     "name": "stdout",
     "output_type": "stream",
     "text": [
      "True\n"
     ]
    }
   ],
   "source": [
    "def has_pair_sum(a, target):\n",
    "    a.sort()\n",
    "    l, r = 0, len(a)-1\n",
    "    while l < r:\n",
    "        s = a[l] + a[r]\n",
    "        if s == target:\n",
    "            return True\n",
    "        elif s < target:\n",
    "            l += 1\n",
    "        else:\n",
    "            r -= 1\n",
    "    return False\n",
    "\n",
    "print(has_pair_sum([2, 7, 11, 15], 9))  # True\n"
   ]
  }
 ],
 "metadata": {
  "kernelspec": {
   "display_name": "Python 3",
   "language": "python",
   "name": "python3"
  },
  "language_info": {
   "codemirror_mode": {
    "name": "ipython",
    "version": 3
   },
   "file_extension": ".py",
   "mimetype": "text/x-python",
   "name": "python",
   "nbconvert_exporter": "python",
   "pygments_lexer": "ipython3",
   "version": "3.10.8"
  }
 },
 "nbformat": 4,
 "nbformat_minor": 5
}
