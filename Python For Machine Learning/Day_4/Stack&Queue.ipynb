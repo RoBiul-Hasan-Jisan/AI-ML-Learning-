{
 "cells": [
  {
   "cell_type": "markdown",
   "id": "88883def",
   "metadata": {},
   "source": [
    "## Stack (LIFO)\n",
    "\n",
    "# How it works\n",
    "\n",
    "Stack = Last In, First Out\n",
    "\n",
    "Think of plates stacked on top of each other:\n",
    "\n",
    "You put a new plate on top (push).\n",
    "\n",
    "You remove the top plate (pop).\n",
    "\n",
    "You can check the current top plate (peek).\n",
    "\n",
    "# Operations:\n",
    "\n",
    "push(x) → insert element\n",
    "\n",
    "pop() → remove top element\n",
    "\n",
    "peek() → view top element\n",
    "\n",
    "isEmpty() → check if empty\n",
    "\n",
    "\n",
    "\n",
    "# Example Walkthrough\n",
    "\n",
    "Stack = [] (empty)\n",
    "\n",
    "push(10) → [10]\n",
    "\n",
    "push(20) → [10, 20]\n",
    "\n",
    "push(30) → [10, 20, 30]\n",
    "\n",
    "pop() → removes 30 → [10, 20]\n",
    "\n"
   ]
  },
  {
   "cell_type": "markdown",
   "id": "7879130b",
   "metadata": {},
   "source": [
    "## Queue (FIFO)\n",
    "\n",
    "# How it works\n",
    "\n",
    "Queue = First In, First Out\n",
    "\n",
    "Think of people in a line:\n",
    "\n",
    "First person enters first, leaves first.\n",
    "\n",
    "Last person waits until front clears.\n",
    "\n",
    "# Operations:\n",
    "\n",
    "enqueue(x) → add to back\n",
    "\n",
    "dequeue() → remove from front\n",
    "\n",
    "peek() → see front element\n",
    "\n",
    "isEmpty() → check if empty\n",
    "\n",
    "# Example Walkthrough\n",
    "\n",
    "Queue = [] (empty)\n",
    "\n",
    "enqueue(10) → [10]\n",
    "\n",
    "enqueue(20) → [10, 20]\n",
    "\n",
    "enqueue(30) → [10, 20, 30]\n",
    "\n",
    "dequeue() → removes 10 → [20, 30]"
   ]
  },
  {
   "cell_type": "markdown",
   "id": "8ca7bf92",
   "metadata": {},
   "source": [
    "# Summary Difference\n",
    "| Feature   | Stack (LIFO)      | Queue (FIFO)       |\n",
    "| --------- | ----------------- | ------------------ |\n",
    "| Order     | Last In First Out | First In First Out |\n",
    "| Insertion | push (top)        | enqueue (rear)     |\n",
    "| Removal   | pop (top)         | dequeue (front)    |\n",
    "| Example   | Plates            | People in line     |\n"
   ]
  },
  {
   "cell_type": "code",
   "execution_count": null,
   "id": "6f2de6eb",
   "metadata": {},
   "outputs": [
    {
     "name": "stdout",
     "output_type": "stream",
     "text": [
      "[10, 20, 30]\n",
      "30\n",
      "[10, 20]\n"
     ]
    }
   ],
   "source": [
    "stack = []\n",
    "\n",
    "# push\n",
    "stack.append(10)\n",
    "stack.append(20)\n",
    "stack.append(30)\n",
    "\n",
    "print(stack)  # [10, 20, 30]\n",
    "\n",
    "# pop\n",
    "print(stack.pop())  # 30\n",
    "print(stack)        # [10, 20]\n"
   ]
  },
  {
   "cell_type": "code",
   "execution_count": null,
   "id": "f47849e2",
   "metadata": {},
   "outputs": [
    {
     "name": "stdout",
     "output_type": "stream",
     "text": [
      "20\n"
     ]
    }
   ],
   "source": [
    "print(stack[-1])  # 20\n"
   ]
  },
  {
   "cell_type": "code",
   "execution_count": null,
   "id": "6aa0bfd1",
   "metadata": {},
   "outputs": [
    {
     "name": "stdout",
     "output_type": "stream",
     "text": [
      "True\n",
      "False\n"
     ]
    }
   ],
   "source": [
    "def is_balanced(s):\n",
    "    stack = []\n",
    "    mapping = {')':'(', ']':'[', '}':'{'}\n",
    "    for ch in s:\n",
    "        if ch in \"([{\":\n",
    "            stack.append(ch)\n",
    "        else:\n",
    "            if not stack or stack[-1] != mapping[ch]:\n",
    "                return False\n",
    "            stack.pop()\n",
    "    return not stack\n",
    "\n",
    "print(is_balanced(\"{[()]}\"))  # True\n",
    "print(is_balanced(\"{[(])}\"))  # False\n"
   ]
  },
  {
   "cell_type": "code",
   "execution_count": null,
   "id": "f1b75052",
   "metadata": {},
   "outputs": [
    {
     "name": "stdout",
     "output_type": "stream",
     "text": [
      "deque([10, 20, 30])\n",
      "10\n",
      "deque([20, 30])\n"
     ]
    }
   ],
   "source": [
    "from collections import deque\n",
    "\n",
    "queue = deque()\n",
    "\n",
    "# enqueue\n",
    "queue.append(10)\n",
    "queue.append(20)\n",
    "queue.append(30)\n",
    "print(queue)   # deque([10, 20, 30])\n",
    "\n",
    "# dequeue\n",
    "print(queue.popleft())  # 10\n",
    "print(queue)            # deque([20, 30])\n"
   ]
  },
  {
   "cell_type": "markdown",
   "id": "3c858214",
   "metadata": {},
   "source": [
    "Deque (Double Ended Queue)"
   ]
  },
  {
   "cell_type": "code",
   "execution_count": null,
   "id": "bd6baed6",
   "metadata": {},
   "outputs": [
    {
     "data": {
      "text/plain": [
       "0"
      ]
     },
     "execution_count": 5,
     "metadata": {},
     "output_type": "execute_result"
    }
   ],
   "source": [
    "dq = deque([1,2,3])\n",
    "dq.appendleft(0)  # [0,1,2,3]\n",
    "dq.append(4)      # [0,1,2,3,4]\n",
    "dq.pop()          # remove right -> [0,1,2,3]\n",
    "dq.popleft()      # remove left -> [1,2,3]\n"
   ]
  },
  {
   "cell_type": "markdown",
   "id": "688c884b",
   "metadata": {},
   "source": [
    "Priority Queue (Heap)"
   ]
  },
  {
   "cell_type": "code",
   "execution_count": null,
   "id": "b4a5144c",
   "metadata": {},
   "outputs": [
    {
     "name": "stdout",
     "output_type": "stream",
     "text": [
      "1\n"
     ]
    }
   ],
   "source": [
    "import heapq\n",
    "\n",
    "pq = []\n",
    "heapq.heappush(pq, 3)\n",
    "heapq.heappush(pq, 1)\n",
    "heapq.heappush(pq, 2)\n",
    "\n",
    "print(heapq.heappop(pq))  # 1 (smallest first)\n"
   ]
  }
 ],
 "metadata": {
  "kernelspec": {
   "display_name": "Python 3",
   "language": "python",
   "name": "python3"
  },
  "language_info": {
   "codemirror_mode": {
    "name": "ipython",
    "version": 3
   },
   "file_extension": ".py",
   "mimetype": "text/x-python",
   "name": "python",
   "nbconvert_exporter": "python",
   "pygments_lexer": "ipython3",
   "version": "3.10.8"
  }
 },
 "nbformat": 4,
 "nbformat_minor": 5
}
